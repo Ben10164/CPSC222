{
 "cells": [
  {
   "cell_type": "markdown",
   "metadata": {},
   "source": [
    "## Linear Regression"
   ]
  },
  {
   "cell_type": "markdown",
   "metadata": {},
   "source": [
    "## Warm-up Task(s)\n",
    "* Create LinearRegression.ipynb\n",
    "    * Create an xy dataset with 100 points that roughly resembles y = 2x plus some noise\n",
    "    * Let's seed our random number generator so we all have the same x, y dataset: `np.random.seed(0)`\n",
    "    * Plot the xy data as a scatter plot"
   ]
  },
  {
   "cell_type": "code",
   "execution_count": 1,
   "metadata": {},
   "outputs": [
    {
     "name": "stdout",
     "output_type": "stream",
     "text": [
      "[44.1013086491916, 12.003930209180583, 28.46844960264348, 62.022329980036446, 54.688949753749185, -14.431946996910277, 35.752210438139734, 10.216069792557553, 13.419528705161053, 28.26496254845931, 23.60108927902195, 58.35683767407438, 43.02594312867484, 29.04187541232071, 39.096580818635644, 38.34185818435667, 69.35197682894015, 28.871043405854977, 43.826692541272536, 16.64760651745688, -23.82474539585197, 58.340464886009016, 65.61090497148764, 27.44587448983895, 104.7438655996902, 13.640858135030882, 53.143962932536155, 49.320403749354156, 94.31948035896144, 94.73396924750713, 63.873685642422906, 71.45406299005434, 41.80535630924718, 16.480088294401824, 59.30219626684618, 73.9087242275995, 102.75726701819302, 104.05949621961028, 66.3168295648012, 70.44243123561661, 53.786175873322684, 46.49955157052562, 41.343245234374685, 134.76938488079475, 75.25869545620867, 79.04814245972034, 60.680115998751845, 113.43725889579775, 55.65255381105121, 92.68149299465078, 77.6133359701581, 111.67256244648155, 91.22987156077818, 76.4841953969397, 107.29544429153363, 120.70829676326045, 113.6629305595792, 121.56179744349454, 100.1419476579759, 108.93147085032155, 103.18848880560122, 113.01117096148647, 103.67134294888865, 82.84293494170808, 132.43565355634382, 119.95547659479345, 91.24504132584889, 145.56955638814435, 113.31754089041894, 139.29863489490347, 158.22726405443842, 145.22457276893527, 172.48501711358253, 115.12935449115868, 158.05854102943871, 132.87974772649216, 130.23007127045295, 139.5287583808896, 148.21118669681567, 159.40413355574364, 130.8712539804161, 184.52066217385467, 175.6415609932615, 127.59390784306942, 205.20630484488998, 217.3972294007646, 201.46948927899126, 169.50187910469123, 149.23118446223643, 204.36129317327843, 169.9205763256705, 212.5611267595607, 189.20687445192152, 210.41597591209282, 196.90915992936004, 207.66432920479872, 192.26250051802052, 238.64676234764588, 199.1728023175905, 208.04973408611755]\n"
     ]
    }
   ],
   "source": [
    "import pandas as pd\n",
    "import numpy as np\n",
    "\n",
    "np.random.seed(0)\n",
    "\n",
    "x = list(range(100))\n",
    "y = []\n",
    "\n",
    "for val in x:\n",
    "    y.append(val * 2 + np.random.normal(0,25)) # mean is 0, std is 25\n",
    "\n",
    "print(y)"
   ]
  },
  {
   "cell_type": "code",
   "execution_count": 2,
   "metadata": {},
   "outputs": [
    {
     "data": {
      "image/png": "[encoded data removed]",
      "text/plain": [
       "<Figure size 432x288 with 1 Axes>"
      ]
     },
     "metadata": {
      "needs_background": "light"
     },
     "output_type": "display_data"
    }
   ],
   "source": [
    "import matplotlib.pyplot as plt\n",
    "\n",
    "plt.scatter(x,y)\n",
    "plt.show()"
   ]
  },
  {
   "cell_type": "markdown",
   "metadata": {},
   "source": [
    "## Intro to Regression\n",
    "* Recall with supervised ML, whent he attribute we want to predict is categorical, it is a classification task\n",
    "    * When the attribute is continuous (floating point data) it is a regression task\n",
    "* There are lots of regression algorithms (in scikitlearn, they are called regressors)\n",
    "    * Linear regression\n",
    "    * kNN regressor\n",
    "    * Decision tree regressor\n",
    "    * Support vector regressor\n",
    "    * others ...\n",
    "* Goal: fit a line to the xy data\n",
    "    * Recall y = mx+b\n",
    "    * WHen there is 1 independent variable (x), it is called simple linear regression\n",
    "    * There is also multiple linear regression"
   ]
  },
  {
   "cell_type": "code",
   "execution_count": 3,
   "metadata": {},
   "outputs": [
    {
     "name": "stdout",
     "output_type": "stream",
     "text": [
      "m: 1.9249174584304443 b: 5.2117861960551295 r: 0.9113097511932392\n"
     ]
    }
   ],
   "source": [
    "import scipy.stats as stats\n",
    "\n",
    "m,b,r,p_val,std_err = stats.linregress(x,y)\n",
    "print(\"m:\",m,\"b:\",b,\"r:\",r)"
   ]
  },
  {
   "cell_type": "code",
   "execution_count": 4,
   "metadata": {},
   "outputs": [
    {
     "name": "stdout",
     "output_type": "stream",
     "text": [
      "prediction: 197.70353203909954 residual (error): 2.2964679609004577\n"
     ]
    }
   ],
   "source": [
    "# make a prediction for unseen x\n",
    "test_instance = 100\n",
    "y_predicted = m * test_instance+b\n",
    "print(\"prediction:\",y_predicted, \"residual (error):\",2*test_instance - y_predicted)"
   ]
  },
  {
   "cell_type": "code",
   "execution_count": 5,
   "metadata": {},
   "outputs": [
    {
     "name": "stdout",
     "output_type": "stream",
     "text": [
      "[197.70353204]\n"
     ]
    }
   ],
   "source": [
    "from sklearn.linear_model import LinearRegression\n",
    "\n",
    "reg = LinearRegression()\n",
    "\n",
    "# before we call fit we need to reshape the data\n",
    "X = np.reshape(x,(-1,1)) # -1 grabs the dimention of x (num or rows), results with a 100x1 matrix\n",
    "\n",
    "reg.fit(X,y) # needs X to be a matrix\n",
    "y_predicted = reg.predict([[test_instance]]) \n",
    "print(y_predicted)"
   ]
  },
  {
   "cell_type": "markdown",
   "metadata": {},
   "source": [
    "## Regression Evaluation Metrics\n",
    "Goal: uis to quantify the strength of the relationship between the independent variable(s) (e.g. x) and the dependent variable(s) (e.g. y)\n",
    "* Correlation ($r$): a value in `[-1.0,1.0]`\n",
    "    * 1.0 means a perfect linear relationship; as x increases, so does y; as x decreases, so does y\n",
    "    * -1.0 means a perfect **inverse** linear relationship; as x increases, y decrease; as x decreases, y increases\n",
    "    * At or near 0.0 means little to no linear relationship (x and y are independent)\n",
    "* Coefficient of determination ($R^2$): a valie in `[0.0,1.0]` \n",
    "    * The perportion of variation in y that is explained by x\n",
    "    * The higher your $R^2$, the stronger the relationship between x and y (the better your model)\n",
    "    * This is the default scoring metric for linear regression in scikitlearn (like .score())\n"
   ]
  },
  {
   "cell_type": "code",
   "execution_count": 6,
   "metadata": {},
   "outputs": [
    {
     "name": "stdout",
     "output_type": "stream",
     "text": [
      "r: 0.9113097511932392\n",
      "R^2: 0.8304854626198835\n"
     ]
    }
   ],
   "source": [
    "print(\"r:\",r)\n",
    "print(\"R^2:\",r*r) # this means that 83% of the variation in y is explained x\n",
    "# or 17% of the variatuion in y cannot be explained by x"
   ]
  }
 ],
 "metadata": {
  "interpreter": {
   "hash": "42f2e04143d7207fe24b7231a7967b30a58f6a4af2031ceb790690a1f6850973"
  },
  "kernelspec": {
   "display_name": "Python 3.7.11 64-bit ('base': conda)",
   "name": "python3"
  },
  "language_info": {
   "codemirror_mode": {
    "name": "ipython",
    "version": 3
   },
   "file_extension": ".py",
   "mimetype": "text/x-python",
   "name": "python",
   "nbconvert_exporter": "python",
   "pygments_lexer": "ipython3",
   "version": "3.7.11"
  },
  "orig_nbformat": 4
 },
 "nbformat": 4,
 "nbformat_minor": 2
}
