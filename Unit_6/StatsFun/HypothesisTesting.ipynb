{
 "cells": [
  {
   "cell_type": "markdown",
   "metadata": {},
   "source": [
    "# November 9th 2021\n",
    "5-Step Hypothesis Testing Approach:\n",
    "1. Identify the null+alternative hypotheses\n",
    "1. Select the level of significance \n",
    "1. Select the apropriate test statistic\n",
    "1. Formulate the decision rule\n",
    "1. Make a decision\n",
    "\n",
    "Assumptions made before applying the Approach:\n",
    "1. Normality of population\n",
    "1. Random sampling of observations (data points)\n",
    "1. Independance of observations\n",
    "1. Equal population variances"
   ]
  },
  {
   "cell_type": "code",
   "execution_count": 9,
   "metadata": {},
   "outputs": [
    {
     "name": "stdout",
     "output_type": "stream",
     "text": [
      "Xbar: 29.0 s: 2.7774602993176543 n: 8 df: 7 t: -2.0367003088692623\n"
     ]
    }
   ],
   "source": [
    "import numpy as np\n",
    "x = [30, 28, 32, 26, 33, 25, 28, 30]\n",
    "# Calculate and compute and print the values' $\\overline{X}$, s, n, df, and t \n",
    "\n",
    "mean = np.mean(x)\n",
    "s = np.std(x,ddof=1)\n",
    "n = len(x)\n",
    "df = n-1\n",
    "t = (mean - 31)/(s/np.sqrt(n))\n",
    "print(\"Xbar:\",mean,\"s:\",s,\"n:\",n,\"df:\",df,\"t:\",t)"
   ]
  },
  {
   "cell_type": "markdown",
   "metadata": {},
   "source": [
    "## Example:"
   ]
  },
  {
   "cell_type": "markdown",
   "metadata": {},
   "source": [
    "## Step #1:\n",
    "- H0 (null) hypothesis - a tentative assumption stated about a population parameter that we are testing\n",
    "    - what we know\n",
    "- H1(alt) hypothesis - a statement that would be suggested to be true if the null hypothesis is false/rejected\n",
    "    - H1 is the complement of H0"
   ]
  },
  {
   "cell_type": "markdown",
   "metadata": {},
   "source": [
    "## Step #2:\n",
    "- $\\alpha$ (alpha) - level of significance\n",
    "    - (propability of rejecting the null hypothesis when it is actually true)\n",
    "        - Usually given in the prompt"
   ]
  },
  {
   "cell_type": "markdown",
   "metadata": {},
   "source": [
    "## Step #3\n",
    "- Test stat \n",
    "    - a formula that produces a value from a sample to help you decide whether to reject null hypothesis"
   ]
  },
  {
   "cell_type": "markdown",
   "metadata": {},
   "source": [
    "## Step #4\n",
    "- Decision rule - a statement of the conditions under which you reject or do not reject the null hypothesis\n",
    "    - Critical value - the dividing point between regions of the t-distribution when you reject or do not reget the null hypothesis\n",
    "        - so if H0 is not between -t-critical or +t-critical then you *should* reject it!"
   ]
  },
  {
   "cell_type": "markdown",
   "metadata": {},
   "source": [
    "## Step #5\n",
    "- Compute t-computed\n",
    "- Apply decision rule from previous step\n",
    "- calculate p-value\n",
    "- write a conclusion in the context of the original problem"
   ]
  },
  {
   "cell_type": "markdown",
   "metadata": {},
   "source": [
    "$t = \\frac{\\bar{x}-m}{s/\\sqrt{n}}$"
   ]
  },
  {
   "cell_type": "markdown",
   "metadata": {},
   "source": [
    "Now do the conclusion\n",
    "\n",
    "\"Conclusion: at the 0.05 level of significance we conclude the mpg for our population is likely 31 mpg\""
   ]
  },
  {
   "cell_type": "code",
   "execution_count": 12,
   "metadata": {},
   "outputs": [
    {
     "name": "stdout",
     "output_type": "stream",
     "text": [
      "t: -2.0367003088692623 p: 0.0811068697473857\n"
     ]
    }
   ],
   "source": [
    "# Check our work with scipy\n",
    "import numpy as np\n",
    "import scipy.stats as stats \n",
    "\n",
    "t, p = stats.ttest_1samp(x,31)\n",
    "\n",
    "print(\"t:\",t,\"p:\",p)\n"
   ]
  },
  {
   "cell_type": "markdown",
   "metadata": {},
   "source": [
    "The smaller the alpha, the stricter the result is when you reject something\n",
    "\n",
    "just changing the test from a one tail to a two tail can make you fail the test\n",
    "\n",
    "for a one tailed test, the rejection region is halfed\n",
    "\n",
    "one tailed tests should have a lower alpha"
   ]
  },
  {
   "cell_type": "code",
   "execution_count": 15,
   "metadata": {},
   "outputs": [
    {
     "name": "stdout",
     "output_type": "stream",
     "text": [
      "t: -2.0367003088692623 p: 0.04055343487369285\n"
     ]
    }
   ],
   "source": [
    "# one tailed\n",
    "\n",
    "t, p = stats.ttest_1samp(x,31)\n",
    "p = p/2 # we half the p value for a one tailed test (it only takes up half of the area (half the side))\n",
    "print(\"t:\",t,\"p:\",p)"
   ]
  },
  {
   "cell_type": "markdown",
   "metadata": {},
   "source": [
    "## How many sample groups \n",
    "two sample tests\n",
    "\n",
    "* two tail\n",
    "    * two sampled\n",
    "        * hypothesis that the difference between the groups is 0\n",
    "        * null hypothesis: m1 != m2\n",
    "* one tailed\n",
    "    * two sampled\n",
    "    * you can have a left tailed or right tailed (whichever half you want to focus on)\n",
    "    * left tailed\n",
    "        * h0: m1 >= m2\n",
    "        * h1: m1 < m2\n",
    "    * right tailed\n",
    "        * h1: m1 <= m2\n",
    "        * h2: m1 > m2"
   ]
  }
 ],
 "metadata": {
  "interpreter": {
   "hash": "42f2e04143d7207fe24b7231a7967b30a58f6a4af2031ceb790690a1f6850973"
  },
  "kernelspec": {
   "display_name": "Python 3.7.11 64-bit ('base': conda)",
   "name": "python3"
  },
  "language_info": {
   "codemirror_mode": {
    "name": "ipython",
    "version": 3
   },
   "file_extension": ".py",
   "mimetype": "text/x-python",
   "name": "python",
   "nbconvert_exporter": "python",
   "pygments_lexer": "ipython3",
   "version": "3.7.11"
  },
  "orig_nbformat": 4
 },
 "nbformat": 4,
 "nbformat_minor": 2
}
