{
 "cells": [
  {
   "cell_type": "markdown",
   "metadata": {},
   "source": [
    "## Warm-Up 11/9"
   ]
  },
  {
   "cell_type": "markdown",
   "metadata": {},
   "source": [
    "Reminder:\n",
    "* confidence interval for $\\mu$ using a z-distro \n",
    "    * $\\bar{X} \\pm (z \\frac{s}{\\sqrt{n}})$\n",
    "* confidence interval for $\\mu$ using a t-distro\n",
    "    * $\\bar{X} \\pm (t \\frac{s}{\\sqrt{n}})$\n",
    "* sample mean $= \\bar{x}$\n",
    "* population mean $= \\mu$\n",
    "* sample std $= s$\n",
    "    * $\\sqrt{\\frac{\\sum (x - \\bar{x})^{2}}{N - 1}}$\n",
    "* population std $= \\sigma$\n",
    "    * $\\sqrt{\\frac{\\sum (X - \\mu)^{2}}{n}}$"
   ]
  },
  {
   "cell_type": "code",
   "execution_count": 36,
   "metadata": {},
   "outputs": [
    {
     "name": "stdout",
     "output_type": "stream",
     "text": [
      "Sample mean is 9.000000000000002 and the std is 1.3142574813455419\n",
      "Margin of error 0.8350449951585807\n",
      "Confidence Intervals are (8.16495500484142, 9.835044995158583)\n",
      "We are 95% confident the population mean (number of hours seltp each night) is in (8.16495500484142, 9.835044995158583)\n"
     ]
    }
   ],
   "source": [
    "import pandas as pd\n",
    "import numpy as np\n",
    "\n",
    "x = pd.Series([8.2,9.1,7.7,8.6,6.9,11.3,10.2,9.9,8.9,9.2,7.5,10.5])\n",
    "\n",
    "Xbar = x.mean()\n",
    "s = x.std() \n",
    "# numpy uses population, pass ddof=1 to get sample {s = np.std(x,ddof=1)}\n",
    "# pandas uses sample {s = x.std()}\n",
    "print(\"Sample mean is\", Xbar, \"and the std is\",s)\n",
    "\n",
    "t = 2.201\n",
    "n = len(x)\n",
    "margin_of_error = t * s / np.sqrt(n)\n",
    "print(\"Margin of error\",margin_of_error)\n",
    "\n",
    "confi_interval = (Xbar - margin_of_error, Xbar + margin_of_error)\n",
    "print(\"Confidence Intervals are\", confi_interval)\n",
    "\n",
    "print(\"We are 95% confident the population mean (number of hours seltp each night) is in\",confi_interval)\n",
    "\n"
   ]
  },
  {
   "cell_type": "markdown",
   "metadata": {},
   "source": [
    "## Visualize the Confidence Intervals\n",
    "1. A line for interval with a point for the sample mean\n",
    "2. A bar for the sample mean and error lines for the interval"
   ]
  },
  {
   "cell_type": "code",
   "execution_count": 40,
   "metadata": {},
   "outputs": [
    {
     "data": {
      "image/png": "[encoded data removed]",
      "text/plain": [
       "<Figure size 432x288 with 1 Axes>"
      ]
     },
     "metadata": {
      "needs_background": "light"
     },
     "output_type": "display_data"
    }
   ],
   "source": [
    "import matplotlib.pyplot as plt\n",
    "plt.plot([1],[Xbar], color=\"blue\", marker=\"o\")\n",
    "plt.plot([1,1],confi_interval) # 1,1 because there are two points that to make the line\n",
    "plt.show()"
   ]
  },
  {
   "cell_type": "code",
   "execution_count": 54,
   "metadata": {},
   "outputs": [
    {
     "data": {
      "image/png": "[encoded data removed]",
      "text/plain": [
       "<Figure size 432x288 with 1 Axes>"
      ]
     },
     "metadata": {
      "needs_background": "light"
     },
     "output_type": "display_data"
    }
   ],
   "source": [
    "plt.bar([1],[Xbar],yerr=margin_of_error) # yerr= takes in the margin of error\n",
    "plt.xlim([0.0,2.0])\n",
    "plt.ylim([0.0,12.0])\n",
    "plt.xticks([1],[\"Sleep\"]) # Labels the xticks using // lists\n",
    "plt.show()"
   ]
  },
  {
   "cell_type": "markdown",
   "metadata": {},
   "source": [
    "# TODO: work extra practice problem in today's notes"
   ]
  },
  {
   "cell_type": "markdown",
   "metadata": {},
   "source": []
  }
 ],
 "metadata": {
  "interpreter": {
   "hash": "42f2e04143d7207fe24b7231a7967b30a58f6a4af2031ceb790690a1f6850973"
  },
  "kernelspec": {
   "display_name": "Python 3.7.11 64-bit ('base': conda)",
   "name": "python3"
  },
  "language_info": {
   "codemirror_mode": {
    "name": "ipython",
    "version": 3
   },
   "file_extension": ".py",
   "mimetype": "text/x-python",
   "name": "python",
   "nbconvert_exporter": "python",
   "pygments_lexer": "ipython3",
   "version": "3.7.11"
  },
  "orig_nbformat": 4
 },
 "nbformat": 4,
 "nbformat_minor": 2
}
