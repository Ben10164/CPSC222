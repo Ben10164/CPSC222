{
 "cells": [
  {
   "cell_type": "markdown",
   "metadata": {},
   "source": [
    "# 11/16"
   ]
  },
  {
   "cell_type": "markdown",
   "metadata": {},
   "source": [
    "Independent vs. dependent samples\n",
    "\n",
    "* independent samples: Two samples are from two totally unrelated groups (e.g. observations in each sample are from two different groups)\n",
    "    * randpomized clinical trials\n",
    "    * expiriment vs. control\n",
    "* dependant samples: two sample are related in some way *e.g. two groups where observatios are matched or one group sampled twice)\n",
    "    * e.g. a group of students about to take a class + they are given the same test before and after the class to see if they learned. did their scores improve?\n",
    "    * before + after (pre + post)\n",
    "    * repeated measures"
   ]
  },
  {
   "cell_type": "code",
   "execution_count": 39,
   "metadata": {},
   "outputs": [],
   "source": [
    "import numpy as np\n",
    "import scipy.stats as stats "
   ]
  },
  {
   "cell_type": "markdown",
   "metadata": {},
   "source": [
    "## 2 Sample Independent Example"
   ]
  },
  {
   "cell_type": "code",
   "execution_count": 40,
   "metadata": {},
   "outputs": [],
   "source": [
    "expiriment = [61,102,119,128,62,158,271,57,266,137]\n",
    "control = [24,125,43,62,32,138,53,117,97,63]"
   ]
  },
  {
   "cell_type": "markdown",
   "metadata": {},
   "source": [
    "null hypothesis:  \n",
    "No difference\n",
    "\n",
    "alternate hypothesis:  \n",
    "There is a difference"
   ]
  },
  {
   "cell_type": "markdown",
   "metadata": {},
   "source": [
    "Step 2:\n",
    "\n",
    "$\\alpha$ = 0.05"
   ]
  },
  {
   "cell_type": "markdown",
   "metadata": {},
   "source": [
    "Step 3:\n",
    "\n",
    "t = $\\frac{\\bar{x}_{exp} - \\bar{x}_{cont}}{\\sqrt{Sp^2(\\frac{1}{n_{exp}} + \\frac{1}{n_{cont}}}}$\n",
    "\n",
    "$n_{exp} = 10$\n",
    "\n",
    "$n_{cont} = 10$"
   ]
  },
  {
   "cell_type": "markdown",
   "metadata": {},
   "source": [
    "Step 4:\n",
    "\n",
    "$\\alpha = 0.05$  \n",
    "\n",
    "df = $n_{exp} + n_{cont} - 2$  \n",
    "10 + 10 - 2 = 18\n",
    "\n",
    "t-critical = 1.734\n",
    "\n",
    "if t-computed > 1.734, then reject H0, otherwise we do not have sufficient data in our example to reject H0"
   ]
  },
  {
   "cell_type": "markdown",
   "metadata": {},
   "source": [
    "Step 5:\n",
    "\n",
    "t-computed = 2.1851550736735224\n",
    "\n",
    "we reject h0 because:\n",
    "* t-computed is > t-critical  \n",
    "\n",
    "as well as that: \n",
    "* p is less than alpha(0.005)\n",
    "\n",
    "This means that there is a difference betweent he expirimental and control groups!"
   ]
  },
  {
   "cell_type": "code",
   "execution_count": 41,
   "metadata": {},
   "outputs": [
    {
     "name": "stdout",
     "output_type": "stream",
     "text": [
      "t: 2.1851550736735224\n"
     ]
    }
   ],
   "source": [
    "exp = [61,102,119,128,62,158,271,57,266,137]\n",
    "cont = [24,125,43,62,32,138,53,117,97,63]\n",
    "\n",
    "Xbar_exp = np.mean(exp)\n",
    "Xbar_cont = np.mean(cont)\n",
    "s_exp = np.std(exp,ddof=1)\n",
    "s_cont = np.std(cont,ddof=1)\n",
    "n_exp = len(exp)\n",
    "n_cont = len(cont)\n",
    "\n",
    "df = n_exp + n_cont - 2\n",
    "sp2 = ((n_exp - 1) * s_exp ** 2 + (n_cont - 1) * s_cont **2) / (n_exp + n_cont - 2) \n",
    "t = (Xbar_exp - Xbar_cont)/np.sqrt(sp2 * (1/n_exp + 1 / n_cont))\n",
    "print(\"t:\",t)\n"
   ]
  },
  {
   "cell_type": "code",
   "execution_count": 42,
   "metadata": {},
   "outputs": [
    {
     "name": "stdout",
     "output_type": "stream",
     "text": [
      "2.1851550736735232 0.02117066199247144\n"
     ]
    }
   ],
   "source": [
    "# check work with scipy\n",
    "# one tailed test\n",
    "t,p = stats.ttest_ind(exp,cont)\n",
    "print(t,p/2) # divide by two because it is a one tailed test"
   ]
  },
  {
   "cell_type": "markdown",
   "metadata": {},
   "source": [
    "## 2 Sample Dependent Example\n",
    "A class takes a typing test before and after they take training"
   ]
  },
  {
   "cell_type": "code",
   "execution_count": 43,
   "metadata": {},
   "outputs": [],
   "source": [
    "before = [45,52,34,38,47,42,61,53,52,49]\n",
    "after = [49,56,31,46,54,39,68,55,50,55]"
   ]
  },
  {
   "cell_type": "markdown",
   "metadata": {},
   "source": [
    "#### Step 1:\n",
    "\n",
    "H0 - after <= before\n",
    "\n",
    "H1 - before > after"
   ]
  },
  {
   "cell_type": "markdown",
   "metadata": {},
   "source": [
    "#### Step 2:\n",
    "\n",
    "$\\alpha = 0.05$"
   ]
  },
  {
   "cell_type": "markdown",
   "metadata": {},
   "source": [
    "#### Step 3:\n",
    "\n",
    "t = $\\frac{\\bar{x}_{exp} - \\bar{x}_{cont}}{\\sqrt{Sp^2(\\frac{1}{n_{exp}} + \\frac{1}{n_{cont}}}}$"
   ]
  },
  {
   "cell_type": "markdown",
   "metadata": {},
   "source": [
    "#### Step 4:\n",
    "\n",
    "alpha = 0.05\n",
    "\n",
    "one tailed\n",
    "\n",
    "df = n - 1  \n",
    "= 10-1 = 9\n",
    "\n",
    "t-critical = 1.833"
   ]
  },
  {
   "cell_type": "code",
   "execution_count": 44,
   "metadata": {},
   "outputs": [
    {
     "name": "stdout",
     "output_type": "stream",
     "text": [
      "t: 2.208963121532172\n"
     ]
    }
   ],
   "source": [
    "before = np.array([45,52,34,38,47,42,61,53,52,49])\n",
    "after = np.array([49,56,31,46,54,39,68,55,50,55])\n",
    "\n",
    "n = len(after)\n",
    "\n",
    "d = after - before\n",
    "dbar = np.mean(d)\n",
    "Sd = np.std(d,ddof=1)\n",
    "Sdbar = Sd / np.sqrt(n)\n",
    "\n",
    "t = dbar / Sdbar\n",
    "\n",
    "print(\"t:\",t)"
   ]
  },
  {
   "cell_type": "code",
   "execution_count": 45,
   "metadata": {},
   "outputs": [
    {
     "name": "stdout",
     "output_type": "stream",
     "text": [
      "2.208963121532172 0.02726870763166227\n"
     ]
    }
   ],
   "source": [
    "# check work with scipy\n",
    "# one tailed test\n",
    "t,p = stats.ttest_rel(after,before) # rel because it is relative (dependent)\n",
    "print(t,p/2) # divide by one because it is a two tailed test"
   ]
  },
  {
   "cell_type": "markdown",
   "metadata": {},
   "source": [
    "#### Step 5:\n",
    "\n",
    "Since t-computed is 2.2089 is greater than t-critical, 1.833, we reject H0"
   ]
  },
  {
   "cell_type": "markdown",
   "metadata": {},
   "source": [
    "#### Conclusion:\n",
    "\n",
    "At the 0.05 level of significance, the traning session apears to have improved typing skills."
   ]
  }
 ],
 "metadata": {
  "interpreter": {
   "hash": "42f2e04143d7207fe24b7231a7967b30a58f6a4af2031ceb790690a1f6850973"
  },
  "kernelspec": {
   "display_name": "Python 3.7.11 64-bit ('base': conda)",
   "name": "python3"
  },
  "language_info": {
   "codemirror_mode": {
    "name": "ipython",
    "version": 3
   },
   "file_extension": ".py",
   "mimetype": "text/x-python",
   "name": "python",
   "nbconvert_exporter": "python",
   "pygments_lexer": "ipython3",
   "version": "3.7.11"
  },
  "orig_nbformat": 4
 },
 "nbformat": 4,
 "nbformat_minor": 2
}
