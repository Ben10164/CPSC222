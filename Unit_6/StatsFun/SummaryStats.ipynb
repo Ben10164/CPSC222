{
 "cells": [
  {
   "cell_type": "code",
   "execution_count": 21,
   "id": "d101644d-813e-4612-8394-b4525f07d494",
   "metadata": {},
   "outputs": [
    {
     "name": "stdout",
     "output_type": "stream",
     "text": [
      "Hello\n"
     ]
    }
   ],
   "source": [
    "import utils\n",
    "import importlib\n",
    "importlib.reload(utils)\n",
    "\n",
    "utils.say_hello()"
   ]
  },
  {
   "cell_type": "markdown",
   "id": "8b1171eb",
   "metadata": {},
   "source": [
    "# Summary Stats\n",
    "`Math 321 stats is a good class for CS majors`  \n",
    "\n",
    "Recall: We said that instances are sampled from the \"universe of instances\"  \n",
    "In stats... we sau that a dataset is a sample from the population (\"universe of instances\") \n",
    "* dataset = sample\n",
    "* universe = population\n",
    "\n",
    "Example\n",
    "* Sample: The number of emails CPSC222 students receive in October 2021\n",
    "* Population: The number of emails ALL students nation-wide (or world-wide) receive in October 2021\n",
    "\n",
    "More Key stats terms:\n",
    "* Parameter: Any measurable characteristic of a population\n",
    "    * e.g. population mean $\\mu$\n",
    "* Statistic: Any measurable characteristic of a sample\n",
    "    * e.g. sample mean $\\overline{x}$\n",
    "* Descriptive stats: Organizing, summarizing, and presenting data in an informative way\n",
    "    * e.g. central tendency measures, charting, ...\n",
    "* Inferential stats: Making inferences that go beyond known data\n",
    "    * e.g. infer something about a population based on a sample\n",
    "    * e.g. hypothesis testing, prediction with linear regression, machine learning, ...\n",
    "    * e.g. interpolating data (this is an example we did)"
   ]
  },
  {
   "cell_type": "markdown",
   "id": "45d0f053",
   "metadata": {},
   "source": [
    "## Summary Stats\n",
    "A summary stat summarizes data into a single value or set of values\n",
    "\n",
    "Number of instances"
   ]
  },
  {
   "cell_type": "code",
   "execution_count": 22,
   "id": "791c8c4b",
   "metadata": {},
   "outputs": [
    {
     "name": "stdout",
     "output_type": "stream",
     "text": [
      "0    8\n",
      "1    5\n",
      "2    4\n",
      "3    9\n",
      "4    8\n",
      "5    6\n",
      "dtype: int64\n",
      "Number of instances: 6\n"
     ]
    }
   ],
   "source": [
    "import pandas as pd\n",
    "x = [8,5,4,9,8,6]\n",
    "ser = pd.Series(x)\n",
    "print(ser)\n",
    "print(\"Number of instances:\", len(ser)) # can also do ser.shape"
   ]
  },
  {
   "cell_type": "markdown",
   "id": "c255b82b",
   "metadata": {},
   "source": [
    "Min and max\n",
    "* Doe'snt make sense for nominal attributes"
   ]
  },
  {
   "cell_type": "code",
   "execution_count": 23,
   "id": "264a8ae8",
   "metadata": {},
   "outputs": [
    {
     "name": "stdout",
     "output_type": "stream",
     "text": [
      "min: 4 max: 9\n"
     ]
    }
   ],
   "source": [
    "print(\"min:\",ser.min(),\"max:\",ser.max())"
   ]
  },
  {
   "cell_type": "markdown",
   "id": "8cdfcddf",
   "metadata": {},
   "source": [
    "## Central Tendency\n",
    "Central tendency represents the middle value(s) of a data distribution\n",
    "\n",
    "Mid Value: $\\frac{min+max}{2}$"
   ]
  },
  {
   "cell_type": "code",
   "execution_count": 24,
   "id": "023b8faf",
   "metadata": {},
   "outputs": [
    {
     "name": "stdout",
     "output_type": "stream",
     "text": [
      "mid value: 6.5\n"
     ]
    }
   ],
   "source": [
    "print(\"mid value:\",(ser.min()+ser.max())/2)"
   ]
  },
  {
   "cell_type": "markdown",
   "id": "0535b6bd",
   "metadata": {},
   "source": [
    "Arithmetic mean (AKA average)\n",
    "* sensitive to outliers\n",
    "* should only be applied if you know your data is numeric"
   ]
  },
  {
   "cell_type": "code",
   "execution_count": 25,
   "id": "86db611c",
   "metadata": {},
   "outputs": [
    {
     "name": "stdout",
     "output_type": "stream",
     "text": [
      "mean 6.666666666666667\n"
     ]
    }
   ],
   "source": [
    "print(\"mean\",ser.mean())"
   ]
  },
  {
   "cell_type": "markdown",
   "id": "3c90df84",
   "metadata": {},
   "source": [
    "Median: middle value in a list of sorted values\n",
    "* If the number of instances is even, then take the midpoint between the two middle numbers"
   ]
  },
  {
   "cell_type": "code",
   "execution_count": 26,
   "id": "e1f1572e",
   "metadata": {},
   "outputs": [
    {
     "name": "stdout",
     "output_type": "stream",
     "text": [
      "2    4\n",
      "1    5\n",
      "5    6\n",
      "0    8\n",
      "4    8\n",
      "3    9\n",
      "dtype: int64\n"
     ]
    }
   ],
   "source": [
    "print(ser.sort_values())"
   ]
  },
  {
   "cell_type": "markdown",
   "id": "dc958f20",
   "metadata": {},
   "source": [
    "Mode: The most frequent value(s)"
   ]
  },
  {
   "cell_type": "code",
   "execution_count": 27,
   "id": "da2d61ae",
   "metadata": {},
   "outputs": [
    {
     "name": "stdout",
     "output_type": "stream",
     "text": [
      "0    8\n",
      "dtype: int64\n"
     ]
    }
   ],
   "source": [
    "print(ser.mode())\n"
   ]
  },
  {
   "cell_type": "code",
   "execution_count": 28,
   "id": "390264ed",
   "metadata": {},
   "outputs": [
    {
     "name": "stdout",
     "output_type": "stream",
     "text": [
      "0    8\n",
      "1    5\n",
      "2    4\n",
      "3    9\n",
      "4    8\n",
      "5    6\n",
      "6    9\n",
      "dtype: int64\n",
      "0    8\n",
      "dtype: int64\n",
      "0    8\n",
      "1    9\n",
      "dtype: int64\n"
     ]
    }
   ],
   "source": [
    "x = [8,5,4,9,8,6,9]\n",
    "ser2 = pd.Series(x)\n",
    "print(ser2)\n",
    "print(ser.mode())\n",
    "print(ser2.mode())"
   ]
  },
  {
   "cell_type": "markdown",
   "id": "bda5c24e",
   "metadata": {},
   "source": [
    "## Data Dispersion (Spread)\n",
    "Range: max - min"
   ]
  },
  {
   "cell_type": "code",
   "execution_count": 29,
   "id": "051aa4f2",
   "metadata": {},
   "outputs": [
    {
     "name": "stdout",
     "output_type": "stream",
     "text": [
      "range: 5\n"
     ]
    }
   ],
   "source": [
    "print(\"range:\",ser.max()-ser.min())"
   ]
  },
  {
   "cell_type": "markdown",
   "id": "417665bb",
   "metadata": {},
   "source": [
    "Quantiles: Roughly equal size of partitions of the data (in sorted order)\n",
    "* 2 quantiles: 1 data point that divides the dataset into 2 halves (AKA median)\n",
    "* quartiles: 3 data points that divide the dataset into quarters \n",
    "* percentiles: 99 data points that divide the dataset into 100 groups\n",
    "    * 25th percentile: first quartile\n",
    "    * 50th percentile: second quartile (AKA median)\n",
    "    * 75th percentile: third quartile\n",
    "* IQR (interquartile range): 75th percentile - 25th percentile"
   ]
  },
  {
   "cell_type": "code",
   "execution_count": 30,
   "id": "c3758ca5",
   "metadata": {},
   "outputs": [
    {
     "name": "stdout",
     "output_type": "stream",
     "text": [
      "2    4\n",
      "1    5\n",
      "5    6\n",
      "0    8\n",
      "4    8\n",
      "3    9\n",
      "dtype: int64\n",
      "25th percentile: 0.25    5.25\n",
      "dtype: float64\n"
     ]
    }
   ],
   "source": [
    "print(ser.sort_values())\n",
    "print(\"25th percentile:\", ser.quantile([0.25]))"
   ]
  },
  {
   "cell_type": "code",
   "execution_count": 31,
   "id": "0cd5f528",
   "metadata": {},
   "outputs": [
    {
     "name": "stdout",
     "output_type": "stream",
     "text": [
      "2    4\n",
      "1    5\n",
      "5    6\n",
      "0    8\n",
      "4    8\n",
      "3    9\n",
      "6    9\n",
      "dtype: int64\n",
      "25th percentile: 0.25    5.5\n",
      "dtype: float64\n"
     ]
    }
   ],
   "source": [
    "print(ser2.sort_values())\n",
    "print(\"25th percentile:\", ser2.quantile([0.25]))"
   ]
  },
  {
   "cell_type": "code",
   "execution_count": 32,
   "id": "151daf04",
   "metadata": {},
   "outputs": [
    {
     "name": "stdout",
     "output_type": "stream",
     "text": [
      "25th percentile: 6\n"
     ]
    }
   ],
   "source": [
    "# Lets say we need an actual point in our dataset\n",
    "sorted_ser2 = ser2.sort_values()\n",
    "index = round(0.25 * len(sorted_ser2)) # would be a float so we use round\n",
    "print(\"25th percentile:\", sorted_ser2.iloc[index])"
   ]
  },
  {
   "cell_type": "markdown",
   "id": "84b247d5",
   "metadata": {},
   "source": [
    "## Box Plots\n",
    "These are great visualizations of the spread of data\n",
    "* Take advantage of quantiles!\n",
    "* Non-parametric"
   ]
  },
  {
   "cell_type": "code",
   "execution_count": 33,
   "id": "1d309ae3",
   "metadata": {},
   "outputs": [
    {
     "data": {
      "image/png": "[encoded data removed]",
      "text/plain": [
       "<Figure size 432x288 with 1 Axes>"
      ]
     },
     "metadata": {
      "needs_background": "light"
     },
     "output_type": "display_data"
    }
   ],
   "source": [
    "import matplotlib.pyplot as plt\n",
    "import numpy as np\n",
    "\n",
    "mean = 100\n",
    "stdev = 25\n",
    "num_samples = 1000\n",
    "x1 = np.random.normal(mean, stdev, num_samples)\n",
    "stdev = 5\n",
    "num_samples = 500\n",
    "x2 = np.random.normal(mean, stdev, num_samples)\n",
    "\n",
    "# The orange vertical line in the box is the median\n",
    "# The box around the median is the IQR\n",
    "# The lines (whiskers) are the [Q3 or Q1] +/- 1.5 * IQR\n",
    "# The circles outside the whiskers are outliers\n",
    "\n",
    "plt.boxplot(x1)\n",
    "plt.show()"
   ]
  },
  {
   "cell_type": "markdown",
   "id": "9a0f2c95",
   "metadata": {},
   "source": [
    "Variance: Spread of the mean\n",
    "* High variance: data is more spread out from the mean\n",
    "* Low variance: data is more clustered around the mean\n",
    "\n",
    "Standard deviation: square root of variance\n",
    "* More commonly used... it is in the same units as the mean"
   ]
  },
  {
   "cell_type": "code",
   "execution_count": 34,
   "id": "63203972",
   "metadata": {},
   "outputs": [
    {
     "name": "stdout",
     "output_type": "stream",
     "text": [
      "variance: 3.866666666666667\n",
      "standard deviation: 1.9663841605003503\n",
      "another way to get the standard deviation: 1.9663841605003503\n"
     ]
    }
   ],
   "source": [
    "print(\"variance:\",ser.var())\n",
    "print(\"standard deviation:\",ser.std())\n",
    "print(\"another way to get the standard deviation:\", np.sqrt(ser.var()))"
   ]
  },
  {
   "cell_type": "markdown",
   "id": "252a66c4",
   "metadata": {},
   "source": [
    "# Histogram Demo"
   ]
  },
  {
   "cell_type": "code",
   "execution_count": 35,
   "id": "bd4e3340",
   "metadata": {},
   "outputs": [
    {
     "data": {
      "image/png": "[encoded data removed]",
      "text/plain": [
       "<Figure size 432x288 with 1 Axes>"
      ]
     },
     "metadata": {
      "needs_background": "light"
     },
     "output_type": "display_data"
    }
   ],
   "source": [
    "import matplotlib.pyplot as plt\n",
    "import numpy as np\n",
    "\n",
    "mean = 100\n",
    "stdev = 25\n",
    "num_samples = 1000\n",
    "x1 = np.random.normal(mean, stdev, num_samples)\n",
    "stdev = 5\n",
    "num_samples = 500\n",
    "x2 = np.random.normal(mean, stdev, num_samples)\n",
    "\n",
    "# The orange vertical line in the box is the median\n",
    "# The box around the median is the IQR\n",
    "# The lines (whiskers) are the [Q3 or Q1] +/- 1.5 * IQR\n",
    "# The circles outside the whiskers are outliers\n",
    "\n",
    "plt.figure()\n",
    "plt.hist(x1, label=\"$\\sigma=25$\")\n",
    "plt.hist(x2, label=\"$\\sigma=5$\") # This is smaller because the num of samples is lower\n",
    "plt.show()"
   ]
  },
  {
   "cell_type": "markdown",
   "id": "ebf28dba-c48d-4455-86c0-9ebe568a2cde",
   "metadata": {},
   "source": [
    "## Empirical Rule for Normal Distributions\n",
    "* If your data is \"normal\" (roughly follows a bell shape curve):\n",
    "    * (about) 68% is within mean +/- 1 standard deviation\n",
    "    * (about) 95% is within mean +/- 2 standard deviation\n",
    "    * (about) 99.7% is within mean +/- 3 standard deviation\n",
    "    \n",
    "Let's \"prove\" this for our sample x1 data"
   ]
  },
  {
   "cell_type": "code",
   "execution_count": 36,
   "id": "513a9a6d-8216-415f-ad4d-d213d2feb04e",
   "metadata": {},
   "outputs": [
    {
     "name": "stdout",
     "output_type": "stream",
     "text": [
      "99.64515363424411\n",
      "24.81257592912682\n",
      "within +/= 1 std: 136.8\n",
      "within +/= 2 std: 4.2\n",
      "within +/= 3 std: 0.0\n"
     ]
    }
   ],
   "source": [
    "count_within_1stdev = 0\n",
    "count_within_2nddev = 0\n",
    "count_within_3rddev = 0\n",
    "\n",
    "\n",
    "mean_sampled = np.mean(x1)\n",
    "print(mean_sampled)\n",
    "std_sampled = np.std(x1)\n",
    "print(std_sampled)\n",
    "\n",
    "for value in x1:\n",
    "    if mean_sampled - std_sampled <= value <= mean_sampled + std_sampled:\n",
    "        count_within_1stdev += 1\n",
    "    if (mean_sampled - std_sampled) * 2 <= value <= (mean_sampled + std_sampled) * 2:\n",
    "        count_within_2nddev += 1\n",
    "    if (mean_sampled - std_sampled) * 3 <= value <= (mean_sampled + std_sampled) * 3:\n",
    "        count_within_3rddev += 1\n",
    "\n",
    "print(\"within +/= 1 std:\", count_within_1stdev / num_samples * 100)\n",
    "print(\"within +/= 2 std:\", count_within_2nddev / num_samples * 100)\n",
    "print(\"within +/= 3 std:\", count_within_3rddev / num_samples * 100)\n",
    "    "
   ]
  }
 ],
 "metadata": {
  "interpreter": {
   "hash": "42f2e04143d7207fe24b7231a7967b30a58f6a4af2031ceb790690a1f6850973"
  },
  "kernelspec": {
   "display_name": "Python 3.7.11 64-bit ('base': conda)",
   "name": "python3"
  },
  "language_info": {
   "codemirror_mode": {
    "name": "ipython",
    "version": 3
   },
   "file_extension": ".py",
   "mimetype": "text/x-python",
   "name": "python",
   "nbconvert_exporter": "python",
   "pygments_lexer": "ipython3",
   "version": "3.8.11"
  }
 },
 "nbformat": 4,
 "nbformat_minor": 5
}
