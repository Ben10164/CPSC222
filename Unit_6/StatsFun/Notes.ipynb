{
 "cells": [
  {
   "cell_type": "markdown",
   "metadata": {},
   "source": [
    "# November 4th 2021   "
   ]
  },
  {
   "cell_type": "markdown",
   "metadata": {},
   "source": [
    "## Warm Up\n",
    "The lifespans of meerkats in a particular zoo are normally distributed. The average meerkat lives 13.1 years; the standard deviation is 1.5 years.  "
   ]
  },
  {
   "cell_type": "markdown",
   "metadata": {},
   "source": [
    "68% is between what two values?\n",
    "* 13.1 - 1.5 and 13.1 + 1.5 \n",
    "    * [11.6,14.6]\n",
    "\n",
    "95%\n",
    "* 13.1 - 3 and 13.1 + 3 \n",
    "    * [10.1,16.1]\n",
    "\n",
    "99.7%  \n",
    "* 13.1 - 4.5 and 13.1 + 4.5 \n",
    "    * [8.6,17.6]"
   ]
  },
  {
   "cell_type": "markdown",
   "metadata": {},
   "source": [
    "Use the empirical to estimate the probability of a meerkat living less than 10.1 years.  \n",
    "* 2.5% \n",
    "\n",
    "Use the empirical rule to estimate the probability of a meerkat living longer than 14.6 years.   \n",
    "* 16% (50% - 34%)\n",
    "\n",
    "Use the empirical rule to estimate the probability of a meerkat living between 11.6 and 16.1 years.\n",
    "* 81.5% (68% + (95-68)/2)    "
   ]
  },
  {
   "cell_type": "markdown",
   "metadata": {},
   "source": [
    "(tricky) What is the probability a meerkat lives < 15 years? > 15 years?  \n",
    "* 15 is 1.27 std's away from the mean.\n",
    "* look up 1.27 in a z-table to get the exact % < 15 years. This is 0.8980 = 89.8%\n",
    "* 89.8% is the propability of a meerkat living less than 15 years, so 10.2% is the probability of them living longer than 15 years."
   ]
  },
  {
   "cell_type": "markdown",
   "metadata": {},
   "source": [
    "# Normal Distribution Properties\n",
    "1. Mean = Median = Mode \n",
    "2. Symetric about the center\n",
    "3. 50% if the values are < mean and 50% are > mean\n",
    "4. area under the curve is 1 (100%)\n",
    "\n",
    "## 68-95-99.7\n",
    "68% of values are within +/- 1 std  \n",
    "95% of values are within +/- 2 std  \n",
    "99.7% ov values are within +/- 3 std"
   ]
  },
  {
   "cell_type": "markdown",
   "metadata": {},
   "source": [
    "## Warm Up Graph Example"
   ]
  },
  {
   "cell_type": "code",
   "execution_count": 14,
   "metadata": {},
   "outputs": [
    {
     "data": {
      "image/png": "[encoded data removed]",
      "text/plain": [
       "<Figure size 432x288 with 1 Axes>"
      ]
     },
     "metadata": {
      "needs_background": "light"
     },
     "output_type": "display_data"
    }
   ],
   "source": [
    "import matplotlib.pyplot as plt\n",
    "import numpy as np\n",
    "\n",
    "mean = 13.1\n",
    "stdev = 1.5\n",
    "num_samples = 100\n",
    "x1 = np.random.normal(mean, stdev, num_samples)\n",
    "\n",
    "plt.figure()\n",
    "plt.hist(x1, label=\"$\\sigma=25$\")\n",
    "plt.show()\n",
    "\n"
   ]
  },
  {
   "cell_type": "markdown",
   "metadata": {},
   "source": [
    "## Standard Normal Dist\n",
    "A normal Dist w/ $\\mu = 0$ and $\\sigma = 0$  \n",
    "### Uses\n",
    "* given a sample of observations, we can cpompute how many standard deviations a single observation, $x$, is from the mean\n",
    "    * (e.g.) where $x$ lies on the curve  \n",
    "    * Example: Meerkat is 15 years old\n",
    "        * Z-val = $\\frac{x - \\mu}{\\sigma} = \\frac{15-13.1}{1.5} = 1.277$ standard deviations away from the mean"
   ]
  },
  {
   "cell_type": "markdown",
   "metadata": {},
   "source": [
    "## Intro to T-Distribution\n",
    "T-dist is like a z-dist based on a certain number called the degrees of freedom (df)\n",
    "* n is the sample size\n",
    "* as sample size goes up, so does df.\n",
    "* the lim as n -> $\\infin$ t-dist becomes a z-dist\n",
    "    * If n = 30, its close enough to be used instead of a z-dist\n",
    "\n",
    "### When to use t-dist\n",
    "1. When your sample size is small (<30)\n",
    "2. when you dont know your pop stdev ($\\sigma$)\n",
    "\n",
    "## In this class, when we assume normal, it is safe to always use a T-Dist"
   ]
  },
  {
   "cell_type": "code",
   "execution_count": null,
   "metadata": {},
   "outputs": [],
   "source": [
    "import numpy as np\n",
    "mpg = [30, 28, 32, 26, 33, 25, 28, 30]\n",
    "# Calculate and compute and print the values' $\\overline{X}$, s, n, df, and t \n",
    "\n",
    "mean = np.mean(mpg)\n",
    "s = np.std(mpg,ddof=1)\n",
    "n = len(mpg)\n",
    "df = n-1\n",
    "t = (mean - 31)/(s/np.sqrt(n))\n",
    "print(\"Xbar:\",mean,\"s:\",s,\"n:\",n,\"df:\",df,\"t:\",t)"
   ]
  }
 ],
 "metadata": {
  "interpreter": {
   "hash": "42f2e04143d7207fe24b7231a7967b30a58f6a4af2031ceb790690a1f6850973"
  },
  "kernelspec": {
   "display_name": "Python 3.7.11 64-bit ('base': conda)",
   "name": "python3"
  },
  "language_info": {
   "codemirror_mode": {
    "name": "ipython",
    "version": 3
   },
   "file_extension": ".py",
   "mimetype": "text/x-python",
   "name": "python",
   "nbconvert_exporter": "python",
   "pygments_lexer": "ipython3",
   "version": "3.7.11"
  },
  "orig_nbformat": 4
 },
 "nbformat": 4,
 "nbformat_minor": 2
}
