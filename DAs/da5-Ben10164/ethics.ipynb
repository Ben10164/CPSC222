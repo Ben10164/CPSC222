{
 "cells": [
  {
   "cell_type": "markdown",
   "metadata": {},
   "source": [
    "## Toward the beginning of the documentary, viewers are presented with the idea that social media sells our attention to advertisers to make their profits. The quote that best summarizes this business model is, \"If you’re not paying for the product, then you are the product.\" How do you feel about selling your attention to use the products for free? Are there short and long term effects that we can/cannot foresee?\n",
    "* For me it depends on the product. There are some products, such as youtube, that I am okay with selling my attention to use the product for free. An example in my life is the video game Runescape. Runescape is a game famously known for its addictive model of slowly progressing with repetetive tedious actions such as minning a rock. It is a game that perfectly shows how I am selling my time by playing this game for 10 hours a week in order to recieve dopamine occasionally for free. "
   ]
  },
  {
   "cell_type": "markdown",
   "metadata": {},
   "source": [
    "## Tristan Harris states, \"On the other side of the screen, it’s almost as if they had this avatar voodoo doll-like model of us. All of the things we've ever done, all the clicks we’ve ever made, all the videos we’ve watched, all the likes, that all gets brought back into building a more and more accurate model. The model, once you have it, you can predict the kinds of things that person does.\" He then states that tech companies have three main goals: engagement (drive up your usage), growth (keep you coming back and inviting friends), and advertising (making as much money as possible from advertising). Are there ethical lines that companies should not cross in order to achieve these three goals? Do you feel that the \"avatar voodoo doll-like model of us\" crosses these lines? Why or why not?\n",
    "* The one line that I think shouldn't be crossed is when a company gathers more data than it needs to. Such as if youtube were to gather information relating to my family, location, or medical history. Continuing with the example of youtube, I think it is understandable for youtube to gather information relating to your age, and use it with your watch history to recommend more videos. The avatar voodoo doll-like model definetly crosses these lines."
   ]
  },
  {
   "cell_type": "markdown",
   "metadata": {},
   "source": [
    "## How do you feel about persuasive technology (e.g. programming of the \"the positive intermittent reinforcement\", AKA the slot machine)? As humans, are we able to differentiate between our original thoughts and ones that are \"planted\" unconsciously by persuasive technology?\n",
    "* I think that society should be more aware of the idea of persuasive technology and keep that in mind when they make their own decisions."
   ]
  },
  {
   "cell_type": "markdown",
   "metadata": {},
   "source": [
    "## What else struck you about this documentary?\n",
    "* One thing that struck me when I watched this documentary was the very opening scene where Google employees were brought awarness of a problem, and Google just swept it under the rug."
   ]
  }
 ],
 "metadata": {
  "language_info": {
   "name": "python"
  },
  "orig_nbformat": 4
 },
 "nbformat": 4,
 "nbformat_minor": 2
}
