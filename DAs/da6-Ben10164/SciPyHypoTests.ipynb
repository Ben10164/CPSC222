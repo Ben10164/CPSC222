{
 "cells": [
  {
   "cell_type": "code",
   "execution_count": 3,
   "metadata": {},
   "outputs": [],
   "source": [
    "import matplotlib.pyplot as plt\n",
    "import pandas as pd\n",
    "import scipy.stats as stats\n",
    "import math"
   ]
  },
  {
   "cell_type": "markdown",
   "metadata": {},
   "source": [
    "## Note\n",
    "I had a 102 degree fever while doing this"
   ]
  },
  {
   "cell_type": "markdown",
   "metadata": {},
   "source": [
    "## Using the inpatient rehabilitation dataset from DA5, is the mean age of women who had a stroke greater than the mean age of men who had a stroke? Use a level of significance of 0.01."
   ]
  },
  {
   "cell_type": "markdown",
   "metadata": {},
   "source": [
    "What tricked me for this question was that because the datasets are not the same size, I needed to use the unequal variance t-test\n",
    "\n",
    "This is a one tailed t-test\n",
    "\n",
    "H0 is that the mean age of women who had a stroke is not greater than the mean age of men who had a stroke.\n",
    "\n",
    "H1 is that the mean age of women who had a stroke is greater than the mean age of men who had a stroke.\n",
    "\n",
    "LOS is 0.01.\n",
    "\n",
    "DF = 1167\n",
    "\n",
    "When we look this value up on a t-table, we get around 2.320\n",
    "\n",
    "if t-computed >= 2.320, we do not reject H0  \n",
    "else we reject H0\n"
   ]
  },
  {
   "cell_type": "code",
   "execution_count": 4,
   "metadata": {},
   "outputs": [
    {
     "name": "stdout",
     "output_type": "stream",
     "text": [
      "1.5068840848862006\n"
     ]
    }
   ],
   "source": [
    "patient_data_stats = pd.Series(dtype=float)\n",
    "\n",
    "patient_data_cleaned = pd.read_csv(\"patient_data_cleaned.csv\", index_col=0)\n",
    "\n",
    "# Copied from DA5\n",
    "# Get the men_stroke df\n",
    "new_df = pd.DataFrame(dtype=float)\n",
    "men_stroke = pd.DataFrame(dtype=float)\n",
    "entry = patient_data_cleaned.loc[patient_data_cleaned[\"Gender\"] == \"M\"]\n",
    "new_df = pd.concat([new_df,entry])\n",
    "entry2 = new_df.loc[new_df[\"RIC\"] == \"Stroke\"]\n",
    "men_stroke = pd.concat([men_stroke,entry2])\n",
    "\n",
    "# Get the women_stroke df\n",
    "new_df = pd.DataFrame(dtype=float)\n",
    "women_stroke = pd.DataFrame(dtype=float)\n",
    "entry = patient_data_cleaned.loc[patient_data_cleaned[\"Gender\"] == \"F\"]\n",
    "new_df = pd.concat([new_df,entry])\n",
    "entry2 = new_df.loc[new_df[\"RIC\"] == \"Stroke\"]\n",
    "women_stroke = pd.concat([women_stroke,entry2])\n",
    "\n",
    "\n",
    "t,p = (stats.ttest_ind(women_stroke[\"Age\"],men_stroke[\"Age\"],equal_var=False))\n",
    "print(t/2) # divide by 2 to get the one tailed result"
   ]
  },
  {
   "cell_type": "markdown",
   "metadata": {},
   "source": [
    "Since t-computed is less than 2.320, we do not reject the null hypothesis.\n",
    "\n",
    "This means that on average, with a level of significance of 0.01, there is no difference between the mean age of men or women who get strokes."
   ]
  },
  {
   "cell_type": "markdown",
   "metadata": {},
   "source": [
    "## Using this Piazza dataset, determine if there is a difference in the amount of posts 222 students made compare to 315 students. Use a level of significance of 0.01.\n",
    "Download the piazza_222_users.json and piazza_315_users.json files from the DAs repo on Github: https://github.com/GonzagaCPSC222/DAs/blob/master/files. These JSON files contain the student activity from my CPSC 222 and CPSC 315 classes in Fall 2020. Note that I have removed identifying information and shuffled the order of the JSON array. The attributes include \"days\" (number of days online), \"posts\", \"asks\", \"answers\", and \"views.\"\n",
    "\n",
    "This is an independant t-test with two datasets. Since we do not care if the difference is positive or negative, this is also a 2 tailed test.\n",
    "\n",
    "LOS = 0.01\n",
    "\n",
    "df = sum(students in 222) + sum(students in 315) - 2\n",
    "== 89\n",
    "\n",
    "using a t-chart, we find that t-critical is somewhere around 2.646\n",
    "\n",
    "$t=\\frac{\\overline{X_1} - \\overline{X_2}}{\\sqrt{s_p^2(\\frac{1}{n_1}+\\frac{1}{n_2})}}$"
   ]
  },
  {
   "cell_type": "code",
   "execution_count": 5,
   "metadata": {},
   "outputs": [
    {
     "name": "stdout",
     "output_type": "stream",
     "text": [
      "89\n",
      "-5.43360973700861\n",
      "The amount of posts in 222 is 17\n",
      "The amount of posts in 315 is 116\n"
     ]
    }
   ],
   "source": [
    "piazza_222_users = pd.Series(dtype=float)\n",
    "piazza_315_users = pd.Series(dtype=float)\n",
    "\n",
    "piazza_222_users = pd.read_json(\"piazza_222_users.json\")\n",
    "piazza_315_users = pd.read_json(\"piazza_315_users.json\")\n",
    "\n",
    "num_222_users = piazza_222_users.count()[0]\n",
    "num_315_users = piazza_315_users.count()[0]\n",
    "\n",
    "df = num_222_users + num_315_users - 2\n",
    "\n",
    "print(df)\n",
    "num_posts_222 = piazza_222_users[\"posts\"].sum()\n",
    "num_posts_315 = piazza_315_users[\"posts\"].sum()\n",
    "\n",
    "pooled_var = ((num_222_users - 1)*(piazza_222_users[\"posts\"].std()**2) + (num_315_users -1 )*(piazza_315_users[\"posts\"].std()**2))/(df)\n",
    "\n",
    "t = (piazza_222_users[\"posts\"].mean() - piazza_315_users[\"posts\"].mean())/(math.sqrt((1/num_222_users) + (1/num_315_users)))\n",
    "\n",
    "print(t)\n",
    "\n",
    "print(\"The amount of posts in 222 is\",num_posts_222)\n",
    "print(\"The amount of posts in 315 is\",num_posts_315) # wow already there looks like there is alot more \n",
    "\n"
   ]
  },
  {
   "cell_type": "markdown",
   "metadata": {},
   "source": [
    "Since T-computed is >= 2.646 or <= -2.646, we reject the null hypothesis, meaning that on average, CPSC315 students post more on piazza than 222 students."
   ]
  },
  {
   "cell_type": "markdown",
   "metadata": {},
   "source": [
    "## Using this IQ1 dataset, is the mean duration for students who took the quiz remotely greater than the mean duration for students who took the quiz in the classroom? Use a level of significance of 0.005.\n",
    "\n",
    "Download the IQ1_quiz_durations.csv file from the DAs repo on Github: https://github.com/GonzagaCPSC222/DAs/blob/master/files. This CSV file contains all of the IQ1 durations from my CPSC 222 and CPSC 315 classes in Fall 2020. Note that I have removed identifying information and shuffled the order of the values. Each IQ1 duration (expressed as a fraction of an hour) is coupled with whether or not the student was in-person when they took the quiz or not (0 means they took it remotely, 1 means they took it in-person in the classroom).\n",
    "\n",
    "Null hypothesis: There is no difference between the duration of the students who took the quiz remotely and the duration for the students who took it in the classroom.\n",
    "\n",
    "Alt hypothesis: The students who took the quiz remotley had a higher mean duration than the students who took the quiz in the classroom.\n",
    "\n",
    "LOS = 0.005\n",
    "\n",
    "df = 92 (len(in_person + len(online) -2))\n",
    "\n",
    "this means that t-critical is around 2.636\n",
    "\n",
    "reject null-hypothesis if |t-computed| > 2.636\n",
    "\n",
    "$t=\\frac{\\overline{X_1} - \\overline{X_2}}{\\sqrt{s_p^2(\\frac{1}{n_1}+\\frac{1}{n_2})}}$"
   ]
  },
  {
   "cell_type": "code",
   "execution_count": 6,
   "metadata": {},
   "outputs": [
    {
     "name": "stdout",
     "output_type": "stream",
     "text": [
      "df = 92\n",
      "0.13837344172216143\n"
     ]
    }
   ],
   "source": [
    "IQ1_quiz_durations = pd.Series(dtype=float)\n",
    "\n",
    "IQ1_quiz_durations = pd.read_csv(\"IQ1_quiz_durations.csv\")\n",
    "\n",
    "in_person = IQ1_quiz_durations.loc[IQ1_quiz_durations[\"In-person\"] == 1]\n",
    "\n",
    "online = IQ1_quiz_durations.loc[IQ1_quiz_durations[\"In-person\"] == 0] \n",
    "\n",
    "print(\"df =\",len(in_person) + len(online) - 2)\n",
    "\n",
    "pooled_var = ((len(online) - 1)*(online[\"Hours Start to Finish\"].std()**2) + (len(in_person) -1 )*(in_person[\"Hours Start to Finish\"].std()**2))/(df)\n",
    "\n",
    "t = (online[\"Hours Start to Finish\"].mean() - in_person[\"Hours Start to Finish\"].mean())/(math.sqrt((1/len(online)) + (1/len(in_person))))\n",
    "\n",
    "print(t)"
   ]
  },
  {
   "cell_type": "markdown",
   "metadata": {},
   "source": [
    "Since t-computed is <= 2.636, we do not reject the null hypothesis. This means that on average there was no significant difference between the mean time to complete IQ1 for online students vs in person students."
   ]
  },
  {
   "cell_type": "markdown",
   "metadata": {},
   "source": [
    "# Note (Please read)!\n",
    "**I currently have a 102 fever so for the next 2 questions I am actually going to not go into that much detail, if any. I know it's not doing the assignment but you once said that school is a game where you chose your battles. Im choosing to get a worse grade on this (hopefully while still proving my compitance with jupyter notebook and python with the amount of detail I was using before), in order to work on the project check in/other assignments for other classes**"
   ]
  },
  {
   "cell_type": "markdown",
   "metadata": {},
   "source": [
    "## Using this circuit dataset, is the mean circuit duration for subjects at trial B less than it was at trial A (meaning, did the subjects perform the circuit faster after one week of physical therapy)? Use a level of significance of 0.01.\n",
    "\n",
    "Download the circuit_trials.csv file from the DAs repo on Github: https://github.com/GonzagaCPSC222/DAs/blob/master/files. This CSV file contains circuit durations (in seconds) for 27 subjects. A circuit consisted of performing several tasks like standing up from a chair, walking, and loading into a vehicle. Each subject completed the circuit at two different points in time, one week apart, producing two trials, A and B. During the week between trials, subjects received therapy services to improve their ability to perform the circuit.\n",
    "\n",
    "LOS = 0.01\n",
    "\n",
    "df = 26\n",
    "\n",
    "t-crit =  2.479 (one tailed)"
   ]
  },
  {
   "cell_type": "code",
   "execution_count": 7,
   "metadata": {},
   "outputs": [
    {
     "name": "stdout",
     "output_type": "stream",
     "text": [
      "3.336688368513952\n"
     ]
    }
   ],
   "source": [
    "circuit_trials = pd.Series(dtype=float)\n",
    "\n",
    "circuit_trials = pd.read_csv(\"circuit_trials.csv\", index_col=0)\n",
    "\n",
    "circuit_trials_a = circuit_trials.loc[circuit_trials[\"Trial ID\"] == \"A\"] \n",
    "\n",
    "circuit_trials_b = circuit_trials.loc[circuit_trials[\"Trial ID\"] == \"B\"] \n",
    "\n",
    "\n",
    "# thought this was cool too\n",
    "# circuit_trials_dif = pd.Series(dtype=float)\n",
    "\n",
    "# circuit_trials_dif = circuit_trials_a[\"Duration\"] - circuit_trials_b[\"Duration\"]\n",
    "\n",
    "# print(circuit_trials_dif)\n",
    "\n",
    "t,p = stats.ttest_rel(circuit_trials_a[\"Duration\"],circuit_trials_b[\"Duration\"])\n",
    "\n",
    "print(t)\n"
   ]
  },
  {
   "cell_type": "markdown",
   "metadata": {},
   "source": [
    "Since t-computed is greater than t-critical, that means that one average, the subjects performed faster after one week of physical therapy."
   ]
  },
  {
   "cell_type": "markdown",
   "metadata": {},
   "source": [
    "## Download the GU_website_daily_vistors_2018-2021.csv from the DAs repo on Github: https://github.com/GonzagaCPSC222/DAs/blob/master/files. This file contains daily number of new or returning users to the GU website (thank you to Lyle in GU IT for sharing this with us!!). Using this dataset, what interesting statistical inferences and conclusions do you find? Write up your approach and findings using data storytelling (e.g. narrative before and after code cells describing your experiment design for reproducibility, data visualization(s), write-up of key findings, etc.).\n",
    "\n",
    "My prediction is that the better we preformed in march madness, the more visitors the Gonzaga website had."
   ]
  },
  {
   "cell_type": "code",
   "execution_count": 8,
   "metadata": {},
   "outputs": [
    {
     "name": "stdout",
     "output_type": "stream",
     "text": [
      "The day that had the most new visitors was 2021-04-05\n"
     ]
    }
   ],
   "source": [
    "# GU_website_daily_visitors = pd.Series(dtype=float)\n",
    "GU_website_daily_visitors = pd.read_csv(\"GU_website_daily_vistors_2018-2021.csv\")\n",
    "\n",
    "max_day = (GU_website_daily_visitors.iloc[GU_website_daily_visitors[\"New Visitor\"].idxmax()])\n",
    "print(\"The day that had the most new visitors was\",max_day[\"Date\"])\n",
    "\n",
    "# Commented out because i already did it once, and it takes a while to export each time\n",
    "# plt.bar(GU_website_daily_visitors[\"Date\"],GU_website_daily_visitors[\"New Visitor\"])\n",
    "# plt.bar(GU_website_daily_visitors[\"Date\"],GU_website_daily_visitors[\"Returning Visitor\"],bottom=GU_website_daily_visitors[\"New Visitor\"])\n",
    "# plt.savefig('Comparison.png',dpi=1000)"
   ]
  },
  {
   "cell_type": "markdown",
   "metadata": {},
   "source": [
    "From the results above, we know that the max date of new visitors is 04/05/2021, which happens to be the the day of the baylor x gonzaga mens basketball game (the final game in the march madness tournament)\n",
    "\n",
    "With this knowledge I can confirm that my prediction is correct and that the most traffic Gonzagas website gets is during march madness season. (Specifically the better we do, the more traffic)"
   ]
  }
 ],
 "metadata": {
  "interpreter": {
   "hash": "42f2e04143d7207fe24b7231a7967b30a58f6a4af2031ceb790690a1f6850973"
  },
  "kernelspec": {
   "display_name": "Python 3.7.11 64-bit ('base': conda)",
   "name": "python3"
  },
  "language_info": {
   "codemirror_mode": {
    "name": "ipython",
    "version": 3
   },
   "file_extension": ".py",
   "mimetype": "text/x-python",
   "name": "python",
   "nbconvert_exporter": "python",
   "pygments_lexer": "ipython3",
   "version": "3.7.11"
  },
  "orig_nbformat": 4
 },
 "nbformat": 4,
 "nbformat_minor": 2
}
