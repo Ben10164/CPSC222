{
 "cells": [
  {
   "cell_type": "markdown",
   "metadata": {},
   "source": [
    "# CPSC 122 Github Push Stats\n"
   ]
  },
  {
   "cell_type": "markdown",
   "metadata": {},
   "source": [
    "## Hypothesis\n",
    "#### Null-Hypothesis:\n",
    "\n",
    "On average, the S2 students did not push more than S1\n",
    "\n",
    "\n",
    "#### Alt-Hypothesis:\n",
    "\n",
    "On average, the S2 students push more than S1"
   ]
  },
  {
   "cell_type": "markdown",
   "metadata": {},
   "source": [
    "## Code\n",
    "First I am going to import these 4 librarys. I will use these in my analusis of the Github Push Stats\n"
   ]
  },
  {
   "cell_type": "code",
   "execution_count": 1,
   "metadata": {},
   "outputs": [],
   "source": [
    "import matplotlib.pyplot as plt\n",
    "import numpy as np\n",
    "import pandas as pd\n",
    "import scipy.stats as stats\n",
    "import math"
   ]
  },
  {
   "cell_type": "markdown",
   "metadata": {},
   "source": [
    "Next I set up the two datasets. I'll initialize them as pandas series so it is easier to check my work afterwards."
   ]
  },
  {
   "cell_type": "code",
   "execution_count": 30,
   "metadata": {},
   "outputs": [],
   "source": [
    "S1 = pd.Series([15, 50, 0, 5, 0, 2, 0, 0, 0, 2, 0, 7, 0, 0, 0, 3, 0, 0, 12, 15, 0, 1, 0, 0, 0])\n",
    "S2 = pd.Series([33, 3, 2, 8, 0, 41, 2, 0, 20, 1, 0, 0, 3, 17, 0, 5, 2, 0, 14, 4, 16, 22, 28, 4, 94])\n",
    "\n"
   ]
  },
  {
   "cell_type": "markdown",
   "metadata": {},
   "source": [
    "# Stats"
   ]
  },
  {
   "cell_type": "markdown",
   "metadata": {},
   "source": [
    "Mid Value:\n",
    "\n",
    "The Mid-Range, also known as MR or Mid-Value, is defined as the arithmetic mean from the largest and smallest values in a sample group.  \n",
    "\n",
    "$MR = \\frac{MAX(X) + MIN(X)}{2}$\n",
    "\n",
    "Below I will demonstrate 2 ways to calculate the $MR$:\n",
    "* by hand with no built in functions\n",
    "* using pandas to obtain the max and min and dividing it by 2\n",
    "\n",
    "While this is happening I will output the values calculated. Notice how they both result with the same number."
   ]
  },
  {
   "cell_type": "code",
   "execution_count": 31,
   "metadata": {},
   "outputs": [
    {
     "name": "stdout",
     "output_type": "stream",
     "text": [
      "47.0\n",
      "47.0\n"
     ]
    }
   ],
   "source": [
    "# Not using numpy\n",
    "# Find the largest and smallest number\n",
    "smallest = S2[0]\n",
    "largest = S2[0]\n",
    "for value in S2:\n",
    "    if value < smallest:\n",
    "        smallest = value\n",
    "    if value > largest:\n",
    "        largest = value\n",
    "\n",
    "# Now smallest and largest are their respective values for S2\n",
    "S2MR = (smallest + largest)/2\n",
    "\n",
    "print(S2MR)\n",
    "\n",
    "\n",
    "# Using pandas \n",
    "S2MR = (S2.max() + S2.min()) / 2 # ptp means peak to peak. To calculate the MR we need to divide that by 2\n",
    "print(S2MR)"
   ]
  },
  {
   "cell_type": "markdown",
   "metadata": {},
   "source": [
    "Mean:\n",
    "\n",
    "The mean, also known as the average, is the summation of all of the values of the set, divided by the amount of values in said set.\n",
    "\n",
    "$\\bar{x} = \\frac{\\Sigma{x}}{n}$ with n being the size of x\n",
    "\n",
    "Below I will demonstrate 2 ways to do produce $\\bar{S2}$:\n",
    "* by hand with no built in functions\n",
    "* using pandas "
   ]
  },
  {
   "cell_type": "code",
   "execution_count": 32,
   "metadata": {},
   "outputs": [
    {
     "name": "stdout",
     "output_type": "stream",
     "text": [
      "12.76\n",
      "12.76\n"
     ]
    }
   ],
   "source": [
    "# by hand\n",
    "S2Sum = 0\n",
    "S2Amount = 0\n",
    "for value in S2:\n",
    "    S2Sum += value\n",
    "    S2Amount += 1\n",
    "S2Bar = S2Sum / S2Amount\n",
    "\n",
    "print(S2Bar)\n",
    "\n",
    "# using pandas\n",
    "S2Bar = S2.mean()\n",
    "print(S2Bar)"
   ]
  },
  {
   "cell_type": "markdown",
   "metadata": {},
   "source": [
    "Median:\n",
    "\n",
    "The median is defined as the middle value of a sorted version of the dataset. This is often used as a more accurate way of finding common results, because it isn't affected by outliers as much as the mean.\n",
    "$m\\left(x\\right)\n",
    "=\\begin{cases}\n",
    "  x_\\frac{n+1}{2}                                    & n\\text{ odd}\\\\\n",
    "  \\frac {1}{2}\\left(x_{\\frac{n}{2}} + x_{\\frac{n}{2} + 1}\\right) & n \\text{ even}\n",
    "\\end{cases}$ with x in order\n",
    "\n",
    "(The $LaTeX$ visualization was from [this site](https://math.stackexchange.com/questions/1097546/what-is-the-general-formula-for-calculating-the-median))\n",
    "\n",
    "From here on out, to save space I will no longer calculate the result by hand without numpy, or pandas (I will be using pandas for this demonstration)"
   ]
  },
  {
   "cell_type": "code",
   "execution_count": 33,
   "metadata": {},
   "outputs": [
    {
     "name": "stdout",
     "output_type": "stream",
     "text": [
      "4.0\n"
     ]
    }
   ],
   "source": [
    "S2Median = S2.median()\n",
    "print(S2Median)"
   ]
  },
  {
   "cell_type": "markdown",
   "metadata": {},
   "source": [
    "Mode:\n",
    "\n",
    "The mode is the most frequently occuring value in the sequence.\n",
    "\n",
    "The most common way to calculate it is by traversing the dataset and counting the occurances of each value.\n",
    "\n",
    "Although I do not understand it completely, to stick with formatting the Latex formula according to [this website](https://www.cuemath.com/mean-median-mode-formula/) is:\n",
    "$$Mode = L + h \\dfrac{(f_{m} - f_{1})}{(f_{m} - f_{1}) + (f_{m} - f_{2})}$$\n",
    "\n",
    "Where:\n",
    "* '$L$' is the lower limit of the modal class.\n",
    "* '$h$' is the size of the class interval.\n",
    "* '$f_{m}$' is the frequency of the modal class.\n",
    "* '$f_{1}$' is the frequency of the class preceding the modal class.\n",
    "* '$f_{2}$' is the frequency of the class succeeding the modal class.\n",
    "\n",
    "\n"
   ]
  },
  {
   "cell_type": "code",
   "execution_count": 34,
   "metadata": {},
   "outputs": [
    {
     "name": "stdout",
     "output_type": "stream",
     "text": [
      "0\n"
     ]
    }
   ],
   "source": [
    "S2Mode = S2.mode()[0] # Since .mode() returns a series, we can use [0] to get the first result\n",
    "print(S2Mode)"
   ]
  },
  {
   "cell_type": "markdown",
   "metadata": {},
   "source": [
    "Range:\n",
    "\n",
    "The range of a dataset is defined as the distance between the largest and smallest values of a given set of values.\n",
    "\n",
    "range(x) = $x_{max} - x_{min}$"
   ]
  },
  {
   "cell_type": "code",
   "execution_count": 35,
   "metadata": {},
   "outputs": [
    {
     "name": "stdout",
     "output_type": "stream",
     "text": [
      "94\n"
     ]
    }
   ],
   "source": [
    "S2Range = S2.max() - S2.min()\n",
    "print(S2Range)"
   ]
  },
  {
   "cell_type": "markdown",
   "metadata": {},
   "source": [
    "### Quartiles\n",
    "The quartiles are defined as \"a statistical term that describes a division of observations into four defined intervals based on the values of the data and how they compare to the entire set of observations.\" ([Source](https://www.investopedia.com/terms/q/quartile.asp#:~:text=A%20quartile%20is%20a%20statistical,the%20entire%20set%20of%20observations.))\n",
    "\n",
    "<img src=\"https://d138zd1ktt9iqe.cloudfront.net/media/seo_landing_files/screenshot-45-1617945953.png\" width=\"300\">\n",
    "\n",
    "${\\displaystyle q(p)=x_{(k)}+\\alpha (x_{(k+1)}-x_{(k)})},$\n",
    "\n",
    "where ${\\displaystyle k=[p(n+1)]}{\\displaystyle k=[p(n+1)]}$ and ${\\displaystyle \\alpha =p(n+1)-[p(n+1)]}{\\displaystyle \\alpha =p(n+1)-[p(n+1)]}$\n",
    "\n",
    "$LaTeX$ equation from [Wikipedia](https://en.wikipedia.org/wiki/Quartile)"
   ]
  },
  {
   "cell_type": "code",
   "execution_count": 36,
   "metadata": {},
   "outputs": [
    {
     "name": "stdout",
     "output_type": "stream",
     "text": [
      "First quartile is 1.0\n",
      "Second quartile is 4.0 (notice how it is the same as the median)\n",
      "Third quartile is 17.0\n"
     ]
    }
   ],
   "source": [
    "S2Quartiles = S2.quantile([0.25,0.5,0.75])\n",
    "print(\"First quartile is\",S2Quartiles[0.25])\n",
    "print(\"Second quartile is\",S2Quartiles[0.50], \"(notice how it is the same as the median)\")\n",
    "print(\"Third quartile is\",S2Quartiles[0.75])"
   ]
  },
  {
   "cell_type": "markdown",
   "metadata": {},
   "source": [
    "Varince (Sample)\n",
    "\n",
    "The varieance of a dataset is defined as \"The formula for variance of a is the sum of the squared differences between each data point and the mean, divided by the number of data values.\" ([Source](https://www.calculatorsoup.com/calculators/statistics/variance-calculator.php))\n",
    "\n",
    "$LaTeX$ formula for the Variance of a sample population\n",
    "\n",
    "$\\text{Variance} = s^{2} = \\dfrac{\\sum_{i=1}^{n}(x_i - \\overline{x})^{2}}{n - 1}$\n",
    "([Source](https://www.calculatorsoup.com/calculators/statistics/variance-calculator.php))\n"
   ]
  },
  {
   "cell_type": "code",
   "execution_count": 37,
   "metadata": {},
   "outputs": [
    {
     "name": "stdout",
     "output_type": "stream",
     "text": [
      "420.6899999999999\n",
      "420.6899999999999\n"
     ]
    }
   ],
   "source": [
    "S2Varience = S2.var(ddof=1)\n",
    "print(S2Varience)\n",
    "\n",
    "# or by hand just to prove i know how\n",
    "mean = S2.sum() / len(S2)\n",
    "sum = 0\n",
    "for x in S2:\n",
    "    sum += ((x-mean)**2)\n",
    "variance = sum / (len(S2) - 1)\n",
    "print(variance)"
   ]
  },
  {
   "cell_type": "markdown",
   "metadata": {},
   "source": [
    "Standard Deviation (Sample)\n",
    "\n",
    "The standard deviation of a dataset is defined as \"Standard deviation measures the spread of a data distribution. It measures the typical distance between each data point and the mean.\" ([Source](https://www.khanacademy.org/math/statistics-probability/summarizing-quantitative-data/variance-standard-deviation-sample/a/population-and-sample-standard-deviation-review))\n",
    "\n",
    "$s = \\sqrt{\\frac{1}{N-1} \\sum_{i=1}^N (x_i - \\overline{x})^2}$"
   ]
  },
  {
   "cell_type": "code",
   "execution_count": 38,
   "metadata": {},
   "outputs": [
    {
     "name": "stdout",
     "output_type": "stream",
     "text": [
      "20.510728899773405\n",
      "20.510728899773405\n"
     ]
    }
   ],
   "source": [
    "S2Std = S2.std()\n",
    "print(S2Std)\n",
    "\n",
    "# or by hand just to prove i know how\n",
    "mean = S2.sum() / len(S2)\n",
    "sum = 0\n",
    "for x in S2:\n",
    "    sum += ((x-mean)**2)\n",
    "variance = sum / (len(S2) - 1)\n",
    "print (math.sqrt(variance))"
   ]
  },
  {
   "cell_type": "markdown",
   "metadata": {},
   "source": [
    "S1 - 95% confidence interval for the population mean"
   ]
  },
  {
   "cell_type": "code",
   "execution_count": 39,
   "metadata": {},
   "outputs": [
    {
     "name": "stdout",
     "output_type": "stream",
     "text": [
      "The upper margin of error for 95% is 8.84560803077876 and the lower margin of error for 95% is 0.11439196922124051\n"
     ]
    }
   ],
   "source": [
    "# First we will find the value of t\n",
    "ddof_S1 = S1.size - 1\n",
    "two_tailed_value = (1-0.95)\n",
    "# Now we look up the t value in the t-table with the ddof and two_tailed_value\n",
    "# i personally got 2.064\n",
    "t_val = 2.064\n",
    "\n",
    "# now we divide the std by the sqrt(sample size) and multiply that by t\n",
    "margin_of_error_S1 = t_val * (S1.std() / math.sqrt(S1.size))\n",
    " \n",
    "print(\"The upper margin of error for 95% is\", S1.mean() + margin_of_error_S1,\n",
    "\"and the lower margin of error for 95% is\",S1.mean() - margin_of_error_S1) "
   ]
  },
  {
   "cell_type": "markdown",
   "metadata": {},
   "source": [
    "In order to check my work I am using a function written by \"[CertainBadProgrammer](https://www.codegrepper.com/profile/lyu-ji)\" from [this](https://www.codegrepper.com/code-examples/python/sample+margin+of+error+estimate+python+scipy) site."
   ]
  },
  {
   "cell_type": "code",
   "execution_count": 40,
   "metadata": {},
   "outputs": [],
   "source": [
    "import numpy as np\n",
    "import scipy.stats\n",
    "def mean_confidence_interval(data, confidence=0.95):\n",
    "    a = 1.0 * np.array(data)\n",
    "    n = len(a)\n",
    "    m, se = np.mean(a), scipy.stats.sem(a)\n",
    "    h = se * scipy.stats.t.ppf((1 + confidence) / 2., n-1)\n",
    "    return m, m-h, m+h\n"
   ]
  },
  {
   "cell_type": "code",
   "execution_count": 41,
   "metadata": {},
   "outputs": [
    {
     "name": "stdout",
     "output_type": "stream",
     "text": [
      "(4.48, 0.1146065235678213, 8.845393476432179)\n"
     ]
    }
   ],
   "source": [
    "# check work with numpy\n",
    "print(mean_confidence_interval(S1))"
   ]
  },
  {
   "cell_type": "markdown",
   "metadata": {},
   "source": [
    "S2 95% confidence interval"
   ]
  },
  {
   "cell_type": "code",
   "execution_count": 42,
   "metadata": {},
   "outputs": [
    {
     "name": "stdout",
     "output_type": "stream",
     "text": [
      "The upper margin of error for 95% is 21.22682888982646 and the lower margin of error for 95% is 4.293171110173539\n"
     ]
    }
   ],
   "source": [
    "# First we will find the value of t\n",
    "ddof_S2 = S2.size - 1\n",
    "two_tailed_value = (1-0.95)\n",
    "# Now we look up the t value in the t-table with the ddof and two_tailed_value\n",
    "# i personally got 2.064\n",
    "t_val = 2.064\n",
    "\n",
    "# now we divide the std by the sqrt(sample size) and multiply that by t\n",
    "margin_of_error_S2 = t_val * (S2.std() / math.sqrt(S2.size))\n",
    " \n",
    "print(\"The upper margin of error for 95% is\", S2.mean() + margin_of_error_S2,\n",
    "\"and the lower margin of error for 95% is\",S2.mean() - margin_of_error_S2) "
   ]
  },
  {
   "cell_type": "code",
   "execution_count": 43,
   "metadata": {},
   "outputs": [
    {
     "name": "stdout",
     "output_type": "stream",
     "text": [
      "(12.76, 4.29358722516308, 21.22641277483692)\n"
     ]
    }
   ],
   "source": [
    "# check work with numpy\n",
    "print(mean_confidence_interval(S2))"
   ]
  },
  {
   "cell_type": "markdown",
   "metadata": {},
   "source": [
    "### Visualize both S1 and S2 confidence intervals"
   ]
  },
  {
   "cell_type": "code",
   "execution_count": 44,
   "metadata": {},
   "outputs": [
    {
     "data": {
      "image/png": "[encoded data removed]",
      "text/plain": [
       "<Figure size 432x288 with 1 Axes>"
      ]
     },
     "metadata": {
      "needs_background": "light"
     },
     "output_type": "display_data"
    }
   ],
   "source": [
    "import matplotlib.pyplot as plt\n",
    "plt.bar([1],S1.mean(),yerr=margin_of_error_S1)\n",
    "plt.bar([2],S2.mean(),yerr=margin_of_error_S2)\n",
    "plt.xticks([1,2],[\"S1\",\"S2\"])\n",
    "plt.show()"
   ]
  },
  {
   "cell_type": "markdown",
   "metadata": {},
   "source": [
    "## S2 One-sample, one-tailed t-test of the population mean\n",
    "#### Null-Hypothesis:\n",
    "\n",
    "On average, the S2 students did not push more than 7 total days in advance of the deadlines. LOS=0.05\n",
    "\n",
    "\n",
    "#### Alt-Hypothesis:\n",
    "\n",
    "On average, the S2 students push more than 7 total days in advance of the deadlines. $\\alpha$=0.05\n"
   ]
  },
  {
   "cell_type": "markdown",
   "metadata": {},
   "source": [
    "#### Steps\n",
    "Step 1: State the null and alternate hypothesis:\n",
    "* $H_0$: $\\mu \\leq 7$\n",
    "* $H_1$: $\\mu > 7$\n",
    "\n",
    "Step 2: Select the level of significance:\n",
    "* $\\alpha$ = 0.05\n",
    "\n",
    "Step 3: Select the appropriate test statistic:\n",
    "* $t=\\frac{\\overline{x} - \\mu}{s / \\sqrt{n}}$\n",
    "\n",
    "Step 4: Formulate decision rule:\n",
    "* df = n – 1 = 25 – 1 = 24; we find t = 2.064\n",
    "\n",
    "Step 5: Make a decision based off of t-computed and the decision rule:\n",
    "* If t-computed is > 2.064, then Reject $H_0$.\n",
    "* If t-computed is <= 2.064, then Do Not Reject $H_0$."
   ]
  },
  {
   "cell_type": "code",
   "execution_count": 45,
   "metadata": {},
   "outputs": [
    {
     "name": "stdout",
     "output_type": "stream",
     "text": [
      "t-critical is 2.064, and t-computed is 0.7020715875270083\n",
      "Since t-computed is <= to 2.064, we do not reject H0\n"
     ]
    }
   ],
   "source": [
    "alpha = 0.05\n",
    "hypothesized_pop_mean = 7\n",
    "\n",
    "sample_mean = S2.mean()\n",
    "sample_std = S2.std()\n",
    "n = S2.size\n",
    "\n",
    "t = ((sample_mean - hypothesized_pop_mean) / (sample_std / math.sqrt(n))) / 2 # divide by two because it is  a one tailed test\n",
    "\n",
    "print(\"t-critical is 2.064, and t-computed is\",t)\n",
    "print(\"Since t-computed is <= to 2.064, we do not reject H0\")"
   ]
  },
  {
   "cell_type": "markdown",
   "metadata": {},
   "source": [
    "#### Checking work with scipy"
   ]
  },
  {
   "cell_type": "code",
   "execution_count": 46,
   "metadata": {},
   "outputs": [
    {
     "name": "stdout",
     "output_type": "stream",
     "text": [
      "t-computed using scipy is 0.702071587527008 and t-computed manually is 0.7020715875270083\n"
     ]
    }
   ],
   "source": [
    "t_computed, p_value = stats.ttest_1samp(S2, hypothesized_pop_mean)\n",
    "print(\"t-computed using scipy is\",t_computed/2,\"and t-computed manually is\",t)"
   ]
  },
  {
   "cell_type": "markdown",
   "metadata": {},
   "source": [
    "They are identical, with the manually computed one having one more decimal place."
   ]
  },
  {
   "cell_type": "markdown",
   "metadata": {},
   "source": [
    "### Result\n",
    "Since t-computed is <= to 2.064, we do not reject H0, meaning that:  \n",
    "On average, the S2 students push more than 7 total days in advance of the deadlines. "
   ]
  },
  {
   "cell_type": "markdown",
   "metadata": {},
   "source": [
    "## S1 and S2 Two-sample, one-tailed t-test of the population mean\n",
    "Note: We are using the dependent means because the data is gathered from the same population.\n",
    "\n",
    "Null-Hypothesis: The S2 students did not push their final commits earlier on average than S1 students.\n",
    "\n",
    "Alt-Hypothesis: The S2 students pushed their final commits earlier on average than S1 students. (with $\\alpha = 0.05$)"
   ]
  },
  {
   "cell_type": "markdown",
   "metadata": {},
   "source": [
    "### Steps\n",
    "Step 1: State the null and alternate hypothesis:\n",
    "* $H_0$: $\\mu_1 = \\mu_2$\n",
    "* $H_1$: $\\mu_1 \\neq \\mu_2$\n",
    "\n",
    "Step 2: Select the level of significance:\n",
    "* $\\alpha$ = 0.05\n",
    "\n",
    "Step 3: Select the appropriate test statistic:\n",
    "$t=\\frac{\\overline{X_1} - \\overline{X_2}}{\\sqrt{s_p^2(\\frac{1}{n_1}+\\frac{1}{n_2})}}$\n",
    "\n",
    "Step 4: Formulate decision rule:\n",
    "\n",
    "* $\\alpha = 0.05$ and for the one-tailed t-dist with a population size being 25, the value at [0.05,24] is 1.711\n",
    "\n",
    "\n",
    "Step 5: Make a decision:\n",
    "* If t-computed is > +1.711 or < -1.711 then Reject $H_0$.\n",
    "* If t-computed is <= +1.711 and >= -1.711, then Do Not Reject $H_0$."
   ]
  },
  {
   "cell_type": "code",
   "execution_count": 47,
   "metadata": {},
   "outputs": [
    {
     "name": "stdout",
     "output_type": "stream",
     "text": [
      "-1.794018604733852\n"
     ]
    }
   ],
   "source": [
    "alpha = 0.05\n",
    "mean_dif = S1.mean() - S2.mean()\n",
    "hyp_mean_dif = 0 # default :)\n",
    "standard_error_of_mean_dif = stats.sem((S1-S2))\n",
    "\n",
    "t = (mean_dif - hyp_mean_dif) / standard_error_of_mean_dif\n",
    "\n",
    "pooled_var = ((S1.size - 1)*S1.std()**2+(S2.size-1)*S2.std()**2) / (S1.size + S2.size - 2)\n",
    "\n",
    "t = mean_dif/(math.sqrt(pooled_var*((1/S1.size)+(1/S2.size))))\n",
    "\n",
    "print(t)"
   ]
  },
  {
   "cell_type": "markdown",
   "metadata": {},
   "source": [
    "#### Check work with SciPy"
   ]
  },
  {
   "cell_type": "markdown",
   "metadata": {},
   "source": [
    "### Result\n",
    "Since abs(t-computed) is >= to 1.711, we  reject H0, meaning that:  \n",
    "The S2 students did not push their final commits earlier on average than S1 students. (with $\\alpha = 0.05$)"
   ]
  },
  {
   "cell_type": "code",
   "execution_count": 48,
   "metadata": {},
   "outputs": [
    {
     "name": "stdout",
     "output_type": "stream",
     "text": [
      "1.794018604733852\n"
     ]
    }
   ],
   "source": [
    "print(stats.ttest_ind(S2,S1)[0])"
   ]
  }
 ],
 "metadata": {
  "interpreter": {
   "hash": "42f2e04143d7207fe24b7231a7967b30a58f6a4af2031ceb790690a1f6850973"
  },
  "kernelspec": {
   "display_name": "Python 3.7.11 64-bit ('base': conda)",
   "name": "python3"
  },
  "language_info": {
   "codemirror_mode": {
    "name": "ipython",
    "version": 3
   },
   "file_extension": ".py",
   "mimetype": "text/x-python",
   "name": "python",
   "nbconvert_exporter": "python",
   "pygments_lexer": "ipython3",
   "version": "3.7.11"
  },
  "orig_nbformat": 4
 },
 "nbformat": 4,
 "nbformat_minor": 2
}
