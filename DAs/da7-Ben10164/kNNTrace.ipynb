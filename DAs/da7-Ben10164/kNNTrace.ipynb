{
 "cells": [
  {
   "cell_type": "markdown",
   "metadata": {},
   "source": [
    "## Load Data"
   ]
  },
  {
   "cell_type": "code",
   "execution_count": 1,
   "metadata": {},
   "outputs": [
    {
     "name": "stdout",
     "output_type": "stream",
     "text": [
      "    Price  Engine Power Family Car\n",
      "0    7000           310         no\n",
      "1    8000           180         no\n",
      "2   14000           200         no\n",
      "3   15000           280        yes\n",
      "4   20000           250        yes\n",
      "5   20000           340         no\n",
      "6   22000           300        yes\n",
      "7   25000           260        yes\n",
      "8   27000           285        yes\n",
      "9   29000           340         no\n",
      "10  30000           210         no\n",
      "11  39000           160         no\n",
      "12  40000           245         no\n",
      "13  41000           285         no\n"
     ]
    }
   ],
   "source": [
    "import pandas as pd\n",
    "\n",
    "df = pd.DataFrame(dtype=float)\n",
    "df[\"Price\"] = [7000,8000,14000,15000,20000,20000,22000,25000,27000,29000,30000,39000,40000,41000]\n",
    "df[\"Engine Power\"] = [310,180,200,280,250,340,300,260,285,340,210,160,245,285]\n",
    "df[\"Family Car\"] = [\"no\",\"no\",\"no\",\"yes\",\"yes\",\"no\",\"yes\",\"yes\",\"yes\",\"no\",\"no\",\"no\",\"no\",\"no\"]\n",
    "\n",
    "print(df)\n"
   ]
  },
  {
   "cell_type": "markdown",
   "metadata": {},
   "source": [
    "## Normalize"
   ]
  },
  {
   "cell_type": "code",
   "execution_count": 2,
   "metadata": {},
   "outputs": [
    {
     "name": "stdout",
     "output_type": "stream",
     "text": [
      "[[0.         0.83333333]\n",
      " [0.02941176 0.11111111]\n",
      " [0.20588235 0.22222222]\n",
      " [0.23529412 0.66666667]\n",
      " [0.38235294 0.5       ]\n",
      " [0.38235294 1.        ]\n",
      " [0.44117647 0.77777778]\n",
      " [0.52941176 0.55555556]\n",
      " [0.58823529 0.69444444]\n",
      " [0.64705882 1.        ]\n",
      " [0.67647059 0.27777778]\n",
      " [0.94117647 0.        ]\n",
      " [0.97058824 0.47222222]\n",
      " [1.         0.69444444]]\n"
     ]
    }
   ],
   "source": [
    "from sklearn.preprocessing import MinMaxScaler\n",
    "\n",
    "X_train = df.drop(\"Family Car\", axis=1)\n",
    "y_train = df[\"Family Car\"]\n",
    "\n",
    "scaler = MinMaxScaler()\n",
    "scaler.fit(X_train)\n",
    "\n",
    "X_train_normalized = scaler.transform(X_train)\n",
    "print(X_train_normalized)"
   ]
  },
  {
   "cell_type": "markdown",
   "metadata": {},
   "source": [
    "## Train"
   ]
  },
  {
   "cell_type": "code",
   "execution_count": 3,
   "metadata": {},
   "outputs": [
    {
     "data": {
      "text/plain": [
       "KNeighborsClassifier()"
      ]
     },
     "execution_count": 3,
     "metadata": {},
     "output_type": "execute_result"
    }
   ],
   "source": [
    "from sklearn.neighbors import KNeighborsClassifier\n",
    "\n",
    "neighbor = KNeighborsClassifier(n_neighbors=5) # k is specified to be 5 in the prompt\n",
    "neighbor.fit(X_train_normalized, y_train)"
   ]
  },
  {
   "cell_type": "code",
   "execution_count": 4,
   "metadata": {},
   "outputs": [
    {
     "name": "stdout",
     "output_type": "stream",
     "text": [
      "['no']\n",
      "The nearest neighbors are (array([[0.21324625, 0.28707992, 0.3346284 , 0.38636795, 0.40629472]]), array([[ 2, 10,  4,  1,  7]], dtype=int64))\n"
     ]
    },
    {
     "name": "stderr",
     "output_type": "stream",
     "text": [
      "C:\\Users\\benpu\\anaconda3\\lib\\site-packages\\sklearn\\base.py:446: UserWarning: X does not have valid feature names, but MinMaxScaler was fitted with feature names\n",
      "  \"X does not have valid feature names, but\"\n"
     ]
    }
   ],
   "source": [
    "X_test = pd.Series([21000, 190], index=df.columns.drop(\"Family Car\"))\n",
    "X_test = scaler.transform([X_test])\n",
    "y_test_prediction = neighbor.predict(X_test)\n",
    "\n",
    "print(y_test_prediction)\n",
    "print(\"The nearest neighbors are\",neighbor.kneighbors(X_test))"
   ]
  }
 ],
 "metadata": {
  "interpreter": {
   "hash": "42f2e04143d7207fe24b7231a7967b30a58f6a4af2031ceb790690a1f6850973"
  },
  "kernelspec": {
   "display_name": "Python 3.7.11 64-bit ('base': conda)",
   "name": "python3"
  },
  "language_info": {
   "codemirror_mode": {
    "name": "ipython",
    "version": 3
   },
   "file_extension": ".py",
   "mimetype": "text/x-python",
   "name": "python",
   "nbconvert_exporter": "python",
   "pygments_lexer": "ipython3",
   "version": "3.7.11"
  },
  "orig_nbformat": 4
 },
 "nbformat": 4,
 "nbformat_minor": 2
}
