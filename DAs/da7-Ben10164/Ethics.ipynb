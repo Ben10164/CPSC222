{
 "cells": [
  {
   "cell_type": "markdown",
   "metadata": {},
   "source": [
    "# Data Ethics"
   ]
  },
  {
   "cell_type": "markdown",
   "metadata": {},
   "source": [
    "## 1. Provide a summary of the chapter you chose. Have you had (or heard of) experiences similar to O'Neill's examples in the chapter? What do you think can/should be done to prevent WMDs from causing harm in this particular domain?"
   ]
  },
  {
   "cell_type": "markdown",
   "metadata": {},
   "source": [
    "I read chapter 4, titled *Propaganda Machine - Online Advertising*, and as the name suggests, the chapter was about online advertising and the ethics surrounding it. I have never head of any experiences similar to O'Neill's examples throughout the chapter. I think the most realistic way to prevent WMDs from causing harm in the domain of advertisments would be to have a label beneath the ad that reads \"This ad was targeted towards you\". I do not think there is any realistic way for WMDs to completely stay away from online advertisments. I think this because there is just so much money to be made from targeted ads. So a way to combat it would be to at least be transparent and display that it is in-fact a targeted ad."
   ]
  },
  {
   "cell_type": "markdown",
   "metadata": {},
   "source": [
    "## 2. What else struck you about this chapter?"
   ]
  },
  {
   "cell_type": "markdown",
   "metadata": {},
   "source": [
    "One thing about this chapter that stuck out to me was a specific line from his first story. The line went like *\"He argued that the comin avalanch of personalized advertising would be so useful and timely that customers would welcome it. They would ***beg*** for more\"*. This stood out to me because of the usage of the word **beg**. I feel like it really emphasizes the sinister meaning behind their reasoning. The word beg implies that there is a powerless party that relies on a more powerful party. This is uncomforting because its portraying the users as powerless and only needed for money. \n",
    "\n",
    "Adding onto this idea is the quote *\"...the University of Phoenix targeted poor people with the bait of upward mobility.\"* I don't believe anything needs to be said to see how deceptive that is."
   ]
  },
  {
   "cell_type": "markdown",
   "metadata": {},
   "source": [
    "## 3. In the conclusion, O'Neill states that the first step to regulating mathematical models is to begin with the modelers themselves. That's you! In the above exercises you constructed models and used them to make predictions. While models built on the Titanic dataset seem inoccuous, we have to remember that each instance in the dataset represents a *person* and a feature like *Pclass* encodes a peron's socio-economic status. You're also building models that represent yourself for the project. That all being said, do you pledge to the Hippocratic Oath? Like O'Neill, do you have additional terms you think should be added to the Oath?"
   ]
  },
  {
   "cell_type": "markdown",
   "metadata": {},
   "source": [
    "I agree with the Hippocratic Oath. I think that laying down specific guidelines surrounding the usage of data is a good idea. I dont think there are any additional terms that should be added the the Oath. The Oath was very expansive and detailed and I believed it covered everything that came to mind."
   ]
  },
  {
   "cell_type": "markdown",
   "metadata": {},
   "source": [
    "## 4. O'Neill points out that the \"Hippocratic Oath ignores the on-the-ground pressure that data scientists often confront when bosses pushes for specific answers.\" Even if you don't become a \"data scientist\", you are going to be working with data in some form (e.g. careers in finance, marketing, social sciences, etc. all routinely work with data). Consequently, it is very likely that you'll be in a similar situation to what O'Neill describes at some point (sooner than later) in your career. Do you feel your experiences before Gonzaga, at Gonzaga, in this class, and from reading O'Neill's book provided have equipped you with the knowledge and skills to properly handle this situation? In closing, always remember that an \"instance\" in a \"dataset\" is often sampled from a human being, just like you. We are not equal to our data trails."
   ]
  },
  {
   "cell_type": "markdown",
   "metadata": {},
   "source": [
    "I think the focus on ethics in this class have really prepared me for the future of the constantly changing fields of computer science and data analytics and the worrysome futures that lay before us. Behind every dataset is a story, and that cant be overlooked. A computers harsh analysis of a situation lacks empathy, a key feature that we as a society rely on."
   ]
  }
 ],
 "metadata": {
  "language_info": {
   "name": "python"
  },
  "orig_nbformat": 4
 },
 "nbformat": 4,
 "nbformat_minor": 2
}
